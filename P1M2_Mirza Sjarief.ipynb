{
 "cells": [
  {
   "cell_type": "markdown",
   "metadata": {},
   "source": [
    "#### **i. Perkenalan**\n",
    "\n",
    "Milestones 2\n",
    "\n",
    "Nama  : Mirza Rendra Sjarief\n",
    "\n",
    "Batch : CODA-RMT-001"
   ]
  },
  {
   "cell_type": "markdown",
   "metadata": {},
   "source": [
    "Tableu Page : \n",
    "https://public.tableau.com/views/M2_17322730511940/PresentasiMirza?:language=en-US&publish=yes&:sid=&:redirect=auth&:display_count=n&:origin=viz_share_link\n",
    "\n",
    "Statistik :\n",
    "https://public.tableau.com/views/M2_17322730511940/StatistikMirza?:language=en-US&publish=yes&:sid=&:redirect=auth&:display_count=n&:origin=viz_share_link"
   ]
  },
  {
   "cell_type": "markdown",
   "metadata": {},
   "source": [
    "#### **ii. Identifikasi Masalah**\n",
    "\n",
    "\n",
    "\n",
    "**Latar Belakang Masalah:**\n",
    "\n",
    "\n",
    "Diabetes adalah penyakit kronis dan metabolik yang ditandai dengan meningkatnya kadar glukosa darah (atau gula darah). Diabetes terdiri dari beberapa jenis atau tingkatan, yaitu tipe 1 dimana kondisi pankreas hampir tidak dapat memproduksi insulin, tipe 2 tubuh menjadi resisten terhadap insulin atau tidak memproduksi insulin dalam jumlah yang cukup. Tipe 3 kurangnya suplai insulin ke dalam otak dapat menurunkan kerja dan regenerasi sel otak sehingga memicu terjadinya penyakit Alzheimer. Diabetes juga dapat menyebabkan berbagai komplikasi dan seiring waktu dapat menyebabkan kerusakan serius pada jantung, pembuluh darah, mata, ginjal, dan saraf. \n",
    "\n",
    "Berdasarkan hal itu sebuah rumah sakit yang mempunyai konsern tinggi terhadap diabetes ingin seorang data analyst melakukan beberapa penelitian untuk mendeteksi  pemicu seseorang terkena penyakit diabetes. Sebagai tahap awal untuk pencegahan serta mengurangi resiko pasien terkena diabetes, maupun diabetes tahap lanjut dan komplikasi. Untuk itu dilakukan pengumpulan data dari lebih 100 pasien baik yang sudah terdiagnosa diabetes maupun belum. Berisikan demografis pasien serta rekam medis seperti Fasting Blood Preassure (FBS) dan HbA1c. Fasting Blood Preassure (FBS) adalah kadar gula darah pada saat sampel darah diambil, sedangkan HbA1c menunjukkan seberapa banyak gula dalam darah selama berbulan-bulan atau bertahun-tahun.\n",
    "\n",
    "\n",
    "**Defining the Problem Statements\n",
    "Using SMART framework:**\n",
    "\n",
    "**Specific:** Melakukan pendeteksian awal untuk pencegahan penyakit diabetes, berdasarkan faktor genetik dan pola hidup.\n",
    "\n",
    "**Measurable:** Mengurangi 95% resiko pasien terkena diabetes tahap awal.\n",
    "\n",
    "**Achievable:** Memberi penyuluhan kepada pasien tentang pola makan sehat , pentingnya rutin berolah raga, menghentikan kebiasaan buruk seperti merokok.\n",
    "\n",
    "**Relevant:** Keberhasilan dalam pendeteksian awal dapat secara signifikan mengurangi kemungkinan pasien terkena diabetes.\n",
    "\n",
    "**Time-Bound:** Dicapai dalam kurun waktu 6 bulan kedepan.\n",
    "\n",
    "\n",
    "##### Problem Statements\n",
    "\n",
    "Tujuan utamanya melakukan pendeteksian awal untuk pencegahan penyakit diabetes, berdasarkan faktor genetik dan pola hidup. Dengan target mengurangi 95% resiko pasien terkena diabetes tahap awal, dalam kurun waktu 6 bulan kedepan.\n",
    "Memberi penyuluhan kepada pasien tentang pola makan sehat , serta pentingnya rutin berolah raga, menghentikan kebiasaan buruk seperti merokok, dapat secara signifikan mengurangi kemungkinan pasien terkena diabetes lanjutan maupun komplikasi.\n",
    "\n",
    "\n",
    "**Masalah Utama :** Mengetahui deteksi awal dan klasifikasi pasien dengan penyakit diabetes berdasarkan faktor genetik dan pola hidup.\n",
    "\n",
    "Untuk memudahkan analisis dan menyelesaikan masalah, kita perlu memahami detail dari inti masalah tersebut. Untuk melakukannya,  kita akan menggunakan metode Key Questions, dengan menjabarkan masalah tersebut menjadi 6 pertanyaan utama, yaitu :\n",
    "\n",
    "- 1. Apakah pasien dengan riwayat keluarga diabetes (Family History of Diabetes) memiliki risiko lebih tinggi terkena diabetes dibandingkan yang tidak memiliki riwayat keluarga ?\n",
    "\n",
    "- 2. Siapakah diantara laki - laki dan perempuan yang memiliki angka terkena diabetes tertinggi berasarkan tingkat gula darah HbA1c ?\n",
    "\n",
    "- 3. Apakah semakin tua umur seseorang semakin besar potensinya terkena diabetes ?\n",
    "\n",
    "- 4. Apakah terdapat perbedaan HbA1c (sel gula darah) yang signifikan antara pasien yang merokok dan tidak merokok ?\n",
    "\n",
    "- 5. Apakah pola makan  dan  berolah raga memiliki kaitan dengan hasil diagnosis ?\n",
    "\n",
    "- 6. Bagaimanakah kolerasi Antara Fasting Blood (FBS) pressure dan HbA1c dalam mendeteksi diabetes, dan korelasinya dengan pola hidup ?\n",
    "\n",
    "\n"
   ]
  },
  {
   "cell_type": "markdown",
   "metadata": {},
   "source": [
    "##### Basic Data Information\n",
    "\n",
    "\n",
    "**Dataset Description**\n",
    "\n",
    "Dataset ini terdiri dari 100 + catatan riwayat kesehatan pasien dari berbagai sumber, termasuk rekam medis, survei, dan wawancara. Data dibersihkan dan diproses untuk memastikan keakuratan dan kelengkapannya.\n",
    "\n",
    "**Context**\n",
    "\n",
    "Mendeteksi potensi seorang terjangkit diabetes tahap awal, pencegahan diabetes tahap lanjut dan komplikasi kronis, berdasarkan faktor genetik dan pola hidup. Semua yang relevan dengan pencegahan seorang terjangkit maupun terkena diabetes lanjutan atau komplikasi. \n",
    "\n",
    "**Content**\n",
    "\n",
    "Informasi demografis tentang pasien –  Age, Gender, BMI, Blood Pressure ,Family History of Diabetes, Diagnosis, semua riwayat kesehatan pasien yang berelasi dengan pendeteksian diabetes tahap awal dan pencegahan penyakit diabetes tahap lanjut dan komplikasi.\n",
    "\n",
    "**Columns**\n",
    "\n",
    "- 1. Age                              - Umur Pasien, in years\n",
    "- 2. Gender                           - Jenis kelamin pasien, male or female\n",
    "- 3. BMI                              - Index masa tubuh, in kg/m2\n",
    "- 4. Blood Pressure                   - Tekanan darah pasien, low, normal, dan high\n",
    "- 5. FBS                              - Fasting Blood Sugar ( Sampel darah yang diambil setelah berpuasa 8 jam), in mg/dl\n",
    "- 6. HbA1c                            - Senyawa gula dan protein ( Mencerminkan rata - rata gula darah setelah 2 - 3 bulan terakhir )\n",
    "- 7. Family History of Diabetes       - Riwayat keturunan keluarga pengidap diabetes\n",
    "- 8. Smoking                          - Pasien perokok / bukan perokok\n",
    "- 9. Diet                             - Pola makan pasien  healthy / poor   \n",
    "- 10. Exercise                        - Pasien rutin berolahraga / tidak\n",
    "- 11. Diagnosis                       - Pasien positive diabetes / tidak\n",
    "\n",
    "\n",
    "**Columns Specification:**\n",
    "\n",
    "BMI :\n",
    "\n",
    "- Underweight     : Less than 18.5\n",
    "- Healthy weight  : 18.5 to less than 25\n",
    "- Overweight      : 25 to less than 30\n",
    "- Obesity         : 30 or greater\n",
    "\n",
    "FBS :\n",
    "- Normal          : Less than 100 mg/dL  \n",
    "- Prediabetes     : 100–125 mg/dL \n",
    "- Diabetes        : 126 mg/dL  or higher \n",
    "\n",
    "HbA1c :\n",
    "- Normal          : Less than 5.7%\n",
    "- Prediabetes     : 5.7% - 6.4%\n",
    "- Diabetes        : 6.5% or higher \n",
    "\n",
    "\n",
    "\n",
    "\n",
    "\n",
    "\n",
    "\n"
   ]
  },
  {
   "cell_type": "markdown",
   "metadata": {},
   "source": [
    "#### **iii. Data Loading**"
   ]
  },
  {
   "cell_type": "code",
   "execution_count": 416,
   "metadata": {},
   "outputs": [],
   "source": [
    "# Import necessary libraries\n",
    "import pandas as pd\n",
    "import numpy as np\n",
    "import matplotlib.pyplot as plt\n",
    "import seaborn as sns\n",
    "from scipy import stats\n",
    "import statsmodels.api as sm\n",
    "from statsmodels.tsa.stattools import adfuller\n",
    "from statsmodels.tsa.arima.model import ARIMA\n",
    "import warnings\n",
    "warnings.filterwarnings('ignore')\n",
    "from sklearn.preprocessing import LabelEncoder"
   ]
  },
  {
   "cell_type": "markdown",
   "metadata": {},
   "source": [
    "Berikut adalah background dataset yang diguanakan dalam penelitian ini  :\n",
    "- Source  : kaggle.com\n",
    "- URL     : https://www.kaggle.com/datasets/sujithmandala/easiest-diabetes-classification-dataset\n",
    "- Author  : Sujith K Mandala\n",
    "- Licence : Attribution 4.0 International (CC BY 4.0)\n",
    "\n",
    "Dataset ini diperoleh dalam bentuk bentuk file csv, shingga kita dapat langsung segera convert kedalam bentuk Pandas Data Frame.\n"
   ]
  },
  {
   "cell_type": "code",
   "execution_count": 417,
   "metadata": {},
   "outputs": [
    {
     "data": {
      "text/html": [
       "<div>\n",
       "<style scoped>\n",
       "    .dataframe tbody tr th:only-of-type {\n",
       "        vertical-align: middle;\n",
       "    }\n",
       "\n",
       "    .dataframe tbody tr th {\n",
       "        vertical-align: top;\n",
       "    }\n",
       "\n",
       "    .dataframe thead th {\n",
       "        text-align: right;\n",
       "    }\n",
       "</style>\n",
       "<table border=\"1\" class=\"dataframe\">\n",
       "  <thead>\n",
       "    <tr style=\"text-align: right;\">\n",
       "      <th></th>\n",
       "      <th>Age</th>\n",
       "      <th>Gender</th>\n",
       "      <th>BMI</th>\n",
       "      <th>Blood Pressure</th>\n",
       "      <th>FBS</th>\n",
       "      <th>HbA1c</th>\n",
       "      <th>Family History of Diabetes</th>\n",
       "      <th>Smoking</th>\n",
       "      <th>Diet</th>\n",
       "      <th>Exercise</th>\n",
       "      <th>Diagnosis</th>\n",
       "    </tr>\n",
       "  </thead>\n",
       "  <tbody>\n",
       "    <tr>\n",
       "      <th>0</th>\n",
       "      <td>45</td>\n",
       "      <td>Male</td>\n",
       "      <td>25</td>\n",
       "      <td>Normal</td>\n",
       "      <td>100</td>\n",
       "      <td>5.7</td>\n",
       "      <td>No</td>\n",
       "      <td>No</td>\n",
       "      <td>Healthy</td>\n",
       "      <td>Regular</td>\n",
       "      <td>No</td>\n",
       "    </tr>\n",
       "    <tr>\n",
       "      <th>1</th>\n",
       "      <td>55</td>\n",
       "      <td>Female</td>\n",
       "      <td>30</td>\n",
       "      <td>High</td>\n",
       "      <td>120</td>\n",
       "      <td>6.4</td>\n",
       "      <td>Yes</td>\n",
       "      <td>Yes</td>\n",
       "      <td>Poor</td>\n",
       "      <td>No</td>\n",
       "      <td>Yes</td>\n",
       "    </tr>\n",
       "    <tr>\n",
       "      <th>2</th>\n",
       "      <td>65</td>\n",
       "      <td>Male</td>\n",
       "      <td>35</td>\n",
       "      <td>High</td>\n",
       "      <td>140</td>\n",
       "      <td>7.1</td>\n",
       "      <td>Yes</td>\n",
       "      <td>Yes</td>\n",
       "      <td>Poor</td>\n",
       "      <td>No</td>\n",
       "      <td>Yes</td>\n",
       "    </tr>\n",
       "    <tr>\n",
       "      <th>3</th>\n",
       "      <td>75</td>\n",
       "      <td>Female</td>\n",
       "      <td>40</td>\n",
       "      <td>High</td>\n",
       "      <td>160</td>\n",
       "      <td>7.8</td>\n",
       "      <td>Yes</td>\n",
       "      <td>Yes</td>\n",
       "      <td>Poor</td>\n",
       "      <td>No</td>\n",
       "      <td>Yes</td>\n",
       "    </tr>\n",
       "    <tr>\n",
       "      <th>4</th>\n",
       "      <td>40</td>\n",
       "      <td>Male</td>\n",
       "      <td>20</td>\n",
       "      <td>Normal</td>\n",
       "      <td>80</td>\n",
       "      <td>5.0</td>\n",
       "      <td>No</td>\n",
       "      <td>No</td>\n",
       "      <td>Healthy</td>\n",
       "      <td>Regular</td>\n",
       "      <td>No</td>\n",
       "    </tr>\n",
       "  </tbody>\n",
       "</table>\n",
       "</div>"
      ],
      "text/plain": [
       "   Age  Gender  BMI Blood Pressure  FBS  HbA1c Family History of Diabetes  \\\n",
       "0   45    Male   25         Normal  100    5.7                         No   \n",
       "1   55  Female   30           High  120    6.4                        Yes   \n",
       "2   65    Male   35           High  140    7.1                        Yes   \n",
       "3   75  Female   40           High  160    7.8                        Yes   \n",
       "4   40    Male   20         Normal   80    5.0                         No   \n",
       "\n",
       "  Smoking     Diet Exercise Diagnosis  \n",
       "0      No  Healthy  Regular        No  \n",
       "1     Yes     Poor       No       Yes  \n",
       "2     Yes     Poor       No       Yes  \n",
       "3     Yes     Poor       No       Yes  \n",
       "4      No  Healthy  Regular        No  "
      ]
     },
     "execution_count": 417,
     "metadata": {},
     "output_type": "execute_result"
    }
   ],
   "source": [
    "#Loading dataset\n",
    "df = pd.read_csv('/Users/mac/Documents/Hacktiv8/tmp/Diabetes Classification.csv', low_memory=False)\n",
    "pd.set_option(\"display.max_columns\", None)\n",
    "\n",
    "df.head()"
   ]
  },
  {
   "cell_type": "code",
   "execution_count": 418,
   "metadata": {},
   "outputs": [
    {
     "name": "stdout",
     "output_type": "stream",
     "text": [
      "<class 'pandas.core.frame.DataFrame'>\n",
      "RangeIndex: 128 entries, 0 to 127\n",
      "Data columns (total 11 columns):\n",
      " #   Column                      Non-Null Count  Dtype  \n",
      "---  ------                      --------------  -----  \n",
      " 0   Age                         128 non-null    int64  \n",
      " 1   Gender                      128 non-null    object \n",
      " 2   BMI                         128 non-null    int64  \n",
      " 3   Blood Pressure              128 non-null    object \n",
      " 4   FBS                         128 non-null    int64  \n",
      " 5   HbA1c                       128 non-null    float64\n",
      " 6   Family History of Diabetes  128 non-null    object \n",
      " 7   Smoking                     128 non-null    object \n",
      " 8   Diet                        128 non-null    object \n",
      " 9   Exercise                    128 non-null    object \n",
      " 10  Diagnosis                   128 non-null    object \n",
      "dtypes: float64(1), int64(3), object(7)\n",
      "memory usage: 11.1+ KB\n"
     ]
    }
   ],
   "source": [
    "df.info()\n"
   ]
  },
  {
   "cell_type": "markdown",
   "metadata": {},
   "source": [
    "- Code ini menampilkan struktur dataset yang terdiri dari 128 baris atau index dan 11 colom, dan  data types yang terdiri dari float64(1), int64(3), object(7)."
   ]
  },
  {
   "cell_type": "code",
   "execution_count": 419,
   "metadata": {},
   "outputs": [
    {
     "data": {
      "text/plain": [
       "Age                           35\n",
       "Gender                         2\n",
       "BMI                           34\n",
       "Blood Pressure                 3\n",
       "FBS                           11\n",
       "HbA1c                         11\n",
       "Family History of Diabetes     2\n",
       "Smoking                        2\n",
       "Diet                           2\n",
       "Exercise                       2\n",
       "Diagnosis                      2\n",
       "dtype: int64"
      ]
     },
     "execution_count": 419,
     "metadata": {},
     "output_type": "execute_result"
    }
   ],
   "source": [
    "df.nunique()\n"
   ]
  },
  {
   "cell_type": "markdown",
   "metadata": {},
   "source": [
    "- Code ini memperlihatkan uniqe number pada tiap kolom"
   ]
  },
  {
   "cell_type": "code",
   "execution_count": 420,
   "metadata": {},
   "outputs": [
    {
     "data": {
      "text/html": [
       "<div>\n",
       "<style scoped>\n",
       "    .dataframe tbody tr th:only-of-type {\n",
       "        vertical-align: middle;\n",
       "    }\n",
       "\n",
       "    .dataframe tbody tr th {\n",
       "        vertical-align: top;\n",
       "    }\n",
       "\n",
       "    .dataframe thead th {\n",
       "        text-align: right;\n",
       "    }\n",
       "</style>\n",
       "<table border=\"1\" class=\"dataframe\">\n",
       "  <thead>\n",
       "    <tr style=\"text-align: right;\">\n",
       "      <th></th>\n",
       "      <th>Age</th>\n",
       "      <th>BMI</th>\n",
       "      <th>FBS</th>\n",
       "      <th>HbA1c</th>\n",
       "    </tr>\n",
       "  </thead>\n",
       "  <tbody>\n",
       "    <tr>\n",
       "      <th>count</th>\n",
       "      <td>128.000000</td>\n",
       "      <td>128.000000</td>\n",
       "      <td>128.000000</td>\n",
       "      <td>128.000000</td>\n",
       "    </tr>\n",
       "    <tr>\n",
       "      <th>mean</th>\n",
       "      <td>42.031250</td>\n",
       "      <td>35.359375</td>\n",
       "      <td>162.500000</td>\n",
       "      <td>7.887500</td>\n",
       "    </tr>\n",
       "    <tr>\n",
       "      <th>std</th>\n",
       "      <td>16.783915</td>\n",
       "      <td>14.981739</td>\n",
       "      <td>61.323975</td>\n",
       "      <td>2.146339</td>\n",
       "    </tr>\n",
       "    <tr>\n",
       "      <th>min</th>\n",
       "      <td>12.000000</td>\n",
       "      <td>10.000000</td>\n",
       "      <td>80.000000</td>\n",
       "      <td>5.000000</td>\n",
       "    </tr>\n",
       "    <tr>\n",
       "      <th>25%</th>\n",
       "      <td>28.000000</td>\n",
       "      <td>24.000000</td>\n",
       "      <td>120.000000</td>\n",
       "      <td>6.400000</td>\n",
       "    </tr>\n",
       "    <tr>\n",
       "      <th>50%</th>\n",
       "      <td>40.000000</td>\n",
       "      <td>34.000000</td>\n",
       "      <td>160.000000</td>\n",
       "      <td>7.800000</td>\n",
       "    </tr>\n",
       "    <tr>\n",
       "      <th>75%</th>\n",
       "      <td>55.000000</td>\n",
       "      <td>45.500000</td>\n",
       "      <td>205.000000</td>\n",
       "      <td>9.375000</td>\n",
       "    </tr>\n",
       "    <tr>\n",
       "      <th>max</th>\n",
       "      <td>75.000000</td>\n",
       "      <td>67.000000</td>\n",
       "      <td>280.000000</td>\n",
       "      <td>12.000000</td>\n",
       "    </tr>\n",
       "  </tbody>\n",
       "</table>\n",
       "</div>"
      ],
      "text/plain": [
       "              Age         BMI         FBS       HbA1c\n",
       "count  128.000000  128.000000  128.000000  128.000000\n",
       "mean    42.031250   35.359375  162.500000    7.887500\n",
       "std     16.783915   14.981739   61.323975    2.146339\n",
       "min     12.000000   10.000000   80.000000    5.000000\n",
       "25%     28.000000   24.000000  120.000000    6.400000\n",
       "50%     40.000000   34.000000  160.000000    7.800000\n",
       "75%     55.000000   45.500000  205.000000    9.375000\n",
       "max     75.000000   67.000000  280.000000   12.000000"
      ]
     },
     "execution_count": 420,
     "metadata": {},
     "output_type": "execute_result"
    }
   ],
   "source": [
    "df.describe()"
   ]
  },
  {
   "cell_type": "markdown",
   "metadata": {},
   "source": [
    "- Code ini merupakan gambaran kecil perhitungan statistik dari nilai numerik pada dataset"
   ]
  },
  {
   "cell_type": "markdown",
   "metadata": {},
   "source": [
    "#### **iii. Data Cleaning**"
   ]
  },
  {
   "cell_type": "code",
   "execution_count": 421,
   "metadata": {},
   "outputs": [
    {
     "data": {
      "text/plain": [
       "0"
      ]
     },
     "execution_count": 421,
     "metadata": {},
     "output_type": "execute_result"
    }
   ],
   "source": [
    "df.duplicated().sum()"
   ]
  },
  {
   "cell_type": "markdown",
   "metadata": {},
   "source": [
    "- Code ini memastikan tidak ada dupilkat pada data set"
   ]
  },
  {
   "cell_type": "code",
   "execution_count": 422,
   "metadata": {},
   "outputs": [
    {
     "data": {
      "text/plain": [
       "Age                           0\n",
       "Gender                        0\n",
       "BMI                           0\n",
       "Blood Pressure                0\n",
       "FBS                           0\n",
       "HbA1c                         0\n",
       "Family History of Diabetes    0\n",
       "Smoking                       0\n",
       "Diet                          0\n",
       "Exercise                      0\n",
       "Diagnosis                     0\n",
       "dtype: int64"
      ]
     },
     "execution_count": 422,
     "metadata": {},
     "output_type": "execute_result"
    }
   ],
   "source": [
    "df.isnull().sum()\n"
   ]
  },
  {
   "cell_type": "markdown",
   "metadata": {},
   "source": [
    "- Code ini memastikan tidak ada missing value / null value pada dataset"
   ]
  },
  {
   "cell_type": "code",
   "execution_count": 423,
   "metadata": {},
   "outputs": [
    {
     "data": {
      "text/html": [
       "<div>\n",
       "<style scoped>\n",
       "    .dataframe tbody tr th:only-of-type {\n",
       "        vertical-align: middle;\n",
       "    }\n",
       "\n",
       "    .dataframe tbody tr th {\n",
       "        vertical-align: top;\n",
       "    }\n",
       "\n",
       "    .dataframe thead th {\n",
       "        text-align: right;\n",
       "    }\n",
       "</style>\n",
       "<table border=\"1\" class=\"dataframe\">\n",
       "  <thead>\n",
       "    <tr style=\"text-align: right;\">\n",
       "      <th></th>\n",
       "      <th>Age</th>\n",
       "      <th>Gender</th>\n",
       "      <th>BMI</th>\n",
       "      <th>Blood Pressure</th>\n",
       "      <th>FBS</th>\n",
       "      <th>HbA1c</th>\n",
       "      <th>Family History of Diabetes</th>\n",
       "      <th>Smoking</th>\n",
       "      <th>Diet</th>\n",
       "      <th>Exercise</th>\n",
       "      <th>Diagnosis</th>\n",
       "    </tr>\n",
       "  </thead>\n",
       "  <tbody>\n",
       "    <tr>\n",
       "      <th>0</th>\n",
       "      <td>45</td>\n",
       "      <td>1</td>\n",
       "      <td>25</td>\n",
       "      <td>1</td>\n",
       "      <td>100</td>\n",
       "      <td>5.7</td>\n",
       "      <td>0</td>\n",
       "      <td>0</td>\n",
       "      <td>1</td>\n",
       "      <td>1</td>\n",
       "      <td>0</td>\n",
       "    </tr>\n",
       "    <tr>\n",
       "      <th>1</th>\n",
       "      <td>55</td>\n",
       "      <td>0</td>\n",
       "      <td>30</td>\n",
       "      <td>2</td>\n",
       "      <td>120</td>\n",
       "      <td>6.4</td>\n",
       "      <td>1</td>\n",
       "      <td>1</td>\n",
       "      <td>0</td>\n",
       "      <td>0</td>\n",
       "      <td>1</td>\n",
       "    </tr>\n",
       "    <tr>\n",
       "      <th>2</th>\n",
       "      <td>65</td>\n",
       "      <td>1</td>\n",
       "      <td>35</td>\n",
       "      <td>2</td>\n",
       "      <td>140</td>\n",
       "      <td>7.1</td>\n",
       "      <td>1</td>\n",
       "      <td>1</td>\n",
       "      <td>0</td>\n",
       "      <td>0</td>\n",
       "      <td>1</td>\n",
       "    </tr>\n",
       "    <tr>\n",
       "      <th>3</th>\n",
       "      <td>75</td>\n",
       "      <td>0</td>\n",
       "      <td>40</td>\n",
       "      <td>2</td>\n",
       "      <td>160</td>\n",
       "      <td>7.8</td>\n",
       "      <td>1</td>\n",
       "      <td>1</td>\n",
       "      <td>0</td>\n",
       "      <td>0</td>\n",
       "      <td>1</td>\n",
       "    </tr>\n",
       "    <tr>\n",
       "      <th>4</th>\n",
       "      <td>40</td>\n",
       "      <td>1</td>\n",
       "      <td>20</td>\n",
       "      <td>1</td>\n",
       "      <td>80</td>\n",
       "      <td>5.0</td>\n",
       "      <td>0</td>\n",
       "      <td>0</td>\n",
       "      <td>1</td>\n",
       "      <td>1</td>\n",
       "      <td>0</td>\n",
       "    </tr>\n",
       "  </tbody>\n",
       "</table>\n",
       "</div>"
      ],
      "text/plain": [
       "   Age  Gender  BMI  Blood Pressure  FBS  HbA1c  Family History of Diabetes  \\\n",
       "0   45       1   25               1  100    5.7                           0   \n",
       "1   55       0   30               2  120    6.4                           1   \n",
       "2   65       1   35               2  140    7.1                           1   \n",
       "3   75       0   40               2  160    7.8                           1   \n",
       "4   40       1   20               1   80    5.0                           0   \n",
       "\n",
       "   Smoking  Diet  Exercise  Diagnosis  \n",
       "0        0     1         1          0  \n",
       "1        1     0         0          1  \n",
       "2        1     0         0          1  \n",
       "3        1     0         0          1  \n",
       "4        0     1         1          0  "
      ]
     },
     "execution_count": 423,
     "metadata": {},
     "output_type": "execute_result"
    }
   ],
   "source": [
    "hl = df.copy()\n",
    "hl['Diagnosis'] = hl['Diagnosis'].replace({'Yes':1,'No':0})\n",
    "hl['Smoking'] = hl['Smoking'].replace({'Yes':1,'No':0})\n",
    "hl['Diet'] = hl['Diet'].replace({'Healthy':1,'Poor':0})\n",
    "hl['Family History of Diabetes'] = hl['Family History of Diabetes'].replace({'Yes':1,'No':0})\n",
    "hl['Blood Pressure'] = hl['Blood Pressure'].replace({'High':2,'Normal':1,'Low':0})\n",
    "hl['Exercise'] = hl['Exercise'].replace({'Regular':1,'No':0})\n",
    "hl['Gender'] = hl['Gender'].replace({'Male':1,'Female':0})\n",
    "\n",
    "\n",
    "hl.head()"
   ]
  },
  {
   "cell_type": "markdown",
   "metadata": {},
   "source": [
    "- Code ini membuat hot label dengan mengganti categorical data menjadi numerical sekaligus tipe data object menjadi int64, untuk mempermudah analisis dan melihat kolerasi."
   ]
  },
  {
   "cell_type": "code",
   "execution_count": 424,
   "metadata": {},
   "outputs": [
    {
     "data": {
      "text/html": [
       "<div>\n",
       "<style scoped>\n",
       "    .dataframe tbody tr th:only-of-type {\n",
       "        vertical-align: middle;\n",
       "    }\n",
       "\n",
       "    .dataframe tbody tr th {\n",
       "        vertical-align: top;\n",
       "    }\n",
       "\n",
       "    .dataframe thead th {\n",
       "        text-align: right;\n",
       "    }\n",
       "</style>\n",
       "<table border=\"1\" class=\"dataframe\">\n",
       "  <thead>\n",
       "    <tr style=\"text-align: right;\">\n",
       "      <th></th>\n",
       "      <th>Age</th>\n",
       "      <th>Gender</th>\n",
       "      <th>BMI</th>\n",
       "      <th>Blood Pressure</th>\n",
       "      <th>FBS</th>\n",
       "      <th>HbA1c</th>\n",
       "      <th>Family History of Diabetes</th>\n",
       "      <th>Smoking</th>\n",
       "      <th>Diet</th>\n",
       "      <th>Exercise</th>\n",
       "      <th>Diagnosis</th>\n",
       "      <th>HbA1c_Category</th>\n",
       "    </tr>\n",
       "  </thead>\n",
       "  <tbody>\n",
       "    <tr>\n",
       "      <th>0</th>\n",
       "      <td>45</td>\n",
       "      <td>Male</td>\n",
       "      <td>25</td>\n",
       "      <td>Normal</td>\n",
       "      <td>100</td>\n",
       "      <td>5.7</td>\n",
       "      <td>No</td>\n",
       "      <td>No</td>\n",
       "      <td>Healthy</td>\n",
       "      <td>Regular</td>\n",
       "      <td>No</td>\n",
       "      <td>Normal</td>\n",
       "    </tr>\n",
       "    <tr>\n",
       "      <th>1</th>\n",
       "      <td>55</td>\n",
       "      <td>Female</td>\n",
       "      <td>30</td>\n",
       "      <td>High</td>\n",
       "      <td>120</td>\n",
       "      <td>6.4</td>\n",
       "      <td>Yes</td>\n",
       "      <td>Yes</td>\n",
       "      <td>Poor</td>\n",
       "      <td>No</td>\n",
       "      <td>Yes</td>\n",
       "      <td>Pre Diabetes</td>\n",
       "    </tr>\n",
       "    <tr>\n",
       "      <th>2</th>\n",
       "      <td>65</td>\n",
       "      <td>Male</td>\n",
       "      <td>35</td>\n",
       "      <td>High</td>\n",
       "      <td>140</td>\n",
       "      <td>7.1</td>\n",
       "      <td>Yes</td>\n",
       "      <td>Yes</td>\n",
       "      <td>Poor</td>\n",
       "      <td>No</td>\n",
       "      <td>Yes</td>\n",
       "      <td>Diabetes</td>\n",
       "    </tr>\n",
       "    <tr>\n",
       "      <th>3</th>\n",
       "      <td>75</td>\n",
       "      <td>Female</td>\n",
       "      <td>40</td>\n",
       "      <td>High</td>\n",
       "      <td>160</td>\n",
       "      <td>7.8</td>\n",
       "      <td>Yes</td>\n",
       "      <td>Yes</td>\n",
       "      <td>Poor</td>\n",
       "      <td>No</td>\n",
       "      <td>Yes</td>\n",
       "      <td>Diabetes</td>\n",
       "    </tr>\n",
       "    <tr>\n",
       "      <th>4</th>\n",
       "      <td>40</td>\n",
       "      <td>Male</td>\n",
       "      <td>20</td>\n",
       "      <td>Normal</td>\n",
       "      <td>80</td>\n",
       "      <td>5.0</td>\n",
       "      <td>No</td>\n",
       "      <td>No</td>\n",
       "      <td>Healthy</td>\n",
       "      <td>Regular</td>\n",
       "      <td>No</td>\n",
       "      <td>Normal</td>\n",
       "    </tr>\n",
       "  </tbody>\n",
       "</table>\n",
       "</div>"
      ],
      "text/plain": [
       "   Age  Gender  BMI Blood Pressure  FBS  HbA1c Family History of Diabetes  \\\n",
       "0   45    Male   25         Normal  100    5.7                         No   \n",
       "1   55  Female   30           High  120    6.4                        Yes   \n",
       "2   65    Male   35           High  140    7.1                        Yes   \n",
       "3   75  Female   40           High  160    7.8                        Yes   \n",
       "4   40    Male   20         Normal   80    5.0                         No   \n",
       "\n",
       "  Smoking     Diet Exercise Diagnosis HbA1c_Category  \n",
       "0      No  Healthy  Regular        No         Normal  \n",
       "1     Yes     Poor       No       Yes   Pre Diabetes  \n",
       "2     Yes     Poor       No       Yes       Diabetes  \n",
       "3     Yes     Poor       No       Yes       Diabetes  \n",
       "4      No  Healthy  Regular        No         Normal  "
      ]
     },
     "execution_count": 424,
     "metadata": {},
     "output_type": "execute_result"
    }
   ],
   "source": [
    "#Compute classify HbA1c\n",
    "def classify_Age(HbA1c):\n",
    "    if HbA1c <= 5.7:\n",
    "        return 'Normal'\n",
    "    elif 5.7 <= HbA1c <= 6.4:\n",
    "        return 'Pre Diabetes'\n",
    "    else:\n",
    "        return 'Diabetes'\n",
    "#Making new table \n",
    "dc = df.copy()    \n",
    "dc['HbA1c_Category'] = dc['HbA1c'].apply(classify_Age)\n",
    "\n",
    "dc.head()"
   ]
  },
  {
   "cell_type": "markdown",
   "metadata": {},
   "source": [
    "- code diatas membuat table tambahan yaitu HbA1c_Category ke dalam variable baru yaitu 'dc' mengubah HbA1c menjadi 3 kategori yaitu < 5.7 = normal,< 6.4 = Pra diabetes, dan diatasnya sebagai diabetes."
   ]
  },
  {
   "cell_type": "markdown",
   "metadata": {},
   "source": [
    "#### **iV. Analisis dan perhitungang**"
   ]
  },
  {
   "cell_type": "markdown",
   "metadata": {},
   "source": [
    "### Apakah faktor riwayat keluarga diabetes (Family History of Diabetes) memiliki hubungan yang signifikan dengan hasil diagnosis diabetes ?"
   ]
  },
  {
   "cell_type": "markdown",
   "metadata": {},
   "source": [
    "- Permasalahan diatas dapat dijawab dengan uji hipotesis dengan metode  chi , dengan mengambil suatu hasil hipotesis dari dua categorical data, yaitu antara data pada column Family History of Diabetes dan Diagnosis."
   ]
  },
  {
   "cell_type": "code",
   "execution_count": 425,
   "metadata": {},
   "outputs": [
    {
     "data": {
      "text/html": [
       "<div>\n",
       "<style scoped>\n",
       "    .dataframe tbody tr th:only-of-type {\n",
       "        vertical-align: middle;\n",
       "    }\n",
       "\n",
       "    .dataframe tbody tr th {\n",
       "        vertical-align: top;\n",
       "    }\n",
       "\n",
       "    .dataframe thead th {\n",
       "        text-align: right;\n",
       "    }\n",
       "</style>\n",
       "<table border=\"1\" class=\"dataframe\">\n",
       "  <thead>\n",
       "    <tr style=\"text-align: right;\">\n",
       "      <th>Diagnosis</th>\n",
       "      <th>No</th>\n",
       "      <th>Yes</th>\n",
       "    </tr>\n",
       "    <tr>\n",
       "      <th>Family History of Diabetes</th>\n",
       "      <th></th>\n",
       "      <th></th>\n",
       "    </tr>\n",
       "  </thead>\n",
       "  <tbody>\n",
       "    <tr>\n",
       "      <th>No</th>\n",
       "      <td>49</td>\n",
       "      <td>28</td>\n",
       "    </tr>\n",
       "    <tr>\n",
       "      <th>Yes</th>\n",
       "      <td>48</td>\n",
       "      <td>3</td>\n",
       "    </tr>\n",
       "  </tbody>\n",
       "</table>\n",
       "</div>"
      ],
      "text/plain": [
       "Diagnosis                   No  Yes\n",
       "Family History of Diabetes         \n",
       "No                          49   28\n",
       "Yes                         48    3"
      ]
     },
     "execution_count": 425,
     "metadata": {},
     "output_type": "execute_result"
    }
   ],
   "source": [
    "#Contingency Table\n",
    "contingency_table = pd.crosstab(df['Family History of Diabetes'],df['Diagnosis'])\n",
    "contingency_table\n"
   ]
  },
  {
   "cell_type": "markdown",
   "metadata": {},
   "source": [
    "- Code ini berfungsi untuk membuat summerize tentang dua categorical data."
   ]
  },
  {
   "cell_type": "code",
   "execution_count": 426,
   "metadata": {},
   "outputs": [
    {
     "name": "stdout",
     "output_type": "stream",
     "text": [
      "\n",
      "Hypotheses:\n",
      "Null Hypothesis (H0): Tidak ada hubungan yang signifikan antara keturunan diabetes dan diagnosis.\n",
      "Alternative Hypothesis (H1): Terdapat hubungan yang signifikan antara keturunan diabetes dan diagnosis.\n",
      "\n",
      "P-value: 0.00019129123169035563\n",
      "\n",
      "Reject the null hypothesis. Terdapat hubungan yang signifikan antara keturunan diabetes dan diagnosis.\n"
     ]
    }
   ],
   "source": [
    "# Formulate hypotheses\n",
    "print(\"\\nHypotheses:\")\n",
    "print(\"Null Hypothesis (H0): Tidak ada hubungan yang signifikan antara keturunan diabetes dan diagnosis.\")\n",
    "print(\"Alternative Hypothesis (H1): Terdapat hubungan yang signifikan antara keturunan diabetes dan diagnosis.\")\n",
    "\n",
    "#Compute Chi Square Test\n",
    "res = stats.chi2_contingency(contingency_table)\n",
    "print(\"\\nP-value:\",res.pvalue)\n",
    "\n",
    "# Conclusion\n",
    "if res.pvalue < 0.05:\n",
    "    print(\"\\nReject the null hypothesis. Terdapat hubungan yang signifikan antara keturunan diabetes dan diagnosis.\")\n",
    "else:\n",
    "    print(\"Fail to reject the null hypothesis. Tidak ada hubungan antara keturunan diabetes dan diagnosis.\")"
   ]
  },
  {
   "cell_type": "markdown",
   "metadata": {},
   "source": [
    "- Dari hasil diatas menyimpulkan bahwa terdapat hubungan yang sangat signifikan secara genetik antara faktor keturunan diabetes dengan hasil diagnosa pasien. Dengan kata lain sangat besar kemungkinan nya seorang yang memiliki keturunan diabetes akan juga menderita diabetes."
   ]
  },
  {
   "cell_type": "code",
   "execution_count": 468,
   "metadata": {},
   "outputs": [
    {
     "data": {
      "text/plain": [
       "Family History of Diabetes\n",
       "No     77\n",
       "Yes    51\n",
       "Name: count, dtype: int64"
      ]
     },
     "execution_count": 468,
     "metadata": {},
     "output_type": "execute_result"
    }
   ],
   "source": [
    "df['Family History of Diabetes'].value_counts()"
   ]
  },
  {
   "cell_type": "code",
   "execution_count": 467,
   "metadata": {},
   "outputs": [
    {
     "data": {
      "text/plain": [
       "<Axes: xlabel='Family History of Diabetes'>"
      ]
     },
     "execution_count": 467,
     "metadata": {},
     "output_type": "execute_result"
    },
    {
     "data": {
      "image/png": "[encoded data removed]",
      "text/plain": [
       "<Figure size 640x480 with 1 Axes>"
      ]
     },
     "metadata": {},
     "output_type": "display_data"
    }
   ],
   "source": [
    "df['Family History of Diabetes'].value_counts().sort_index().plot(kind='bar')"
   ]
  },
  {
   "cell_type": "markdown",
   "metadata": {},
   "source": [
    "- Ini merupakan descrete distribution data yang dimiliki kolom Family History of Diabetes\n",
    "- Bersifat catagorigal, tidak memiliki outlier karena hanya terdiri dari 2 kategori yaitu Yes dan NO\n",
    "- Memperlihatkan total 77 pasien yang memiliki riwayat keluarga diabetes dan 51 yang tidak memiliki riwayat keluarga."
   ]
  },
  {
   "cell_type": "code",
   "execution_count": 470,
   "metadata": {},
   "outputs": [
    {
     "data": {
      "text/plain": [
       "Diagnosis\n",
       "No     97\n",
       "Yes    31\n",
       "Name: count, dtype: int64"
      ]
     },
     "execution_count": 470,
     "metadata": {},
     "output_type": "execute_result"
    }
   ],
   "source": [
    "df['Diagnosis'].value_counts()"
   ]
  },
  {
   "cell_type": "code",
   "execution_count": 469,
   "metadata": {},
   "outputs": [
    {
     "data": {
      "text/plain": [
       "<Axes: xlabel='Diagnosis'>"
      ]
     },
     "execution_count": 469,
     "metadata": {},
     "output_type": "execute_result"
    },
    {
     "data": {
      "image/png": "[encoded data removed]",
      "text/plain": [
       "<Figure size 640x480 with 1 Axes>"
      ]
     },
     "metadata": {},
     "output_type": "display_data"
    }
   ],
   "source": [
    "df['Diagnosis'].value_counts().sort_index().plot(kind='bar')"
   ]
  },
  {
   "cell_type": "code",
   "execution_count": null,
   "metadata": {},
   "outputs": [],
   "source": [
    "- Ini merupakan descrete distribution data yang dimiliki kolom Diagnosis\n",
    "- Bersifat catagorigal, tidak memiliki outlier karena hanya terdiri dari 2 kategori yaitu Yes dan NO\n",
    "- Memperlihatkan total 31 pasien yang positif mengiap diabetes dan 97 yang belum terdiagnosis."
   ]
  },
  {
   "cell_type": "code",
   "execution_count": null,
   "metadata": {},
   "outputs": [],
   "source": [
    "Family History of Diabetes"
   ]
  },
  {
   "cell_type": "markdown",
   "metadata": {},
   "source": [
    "#### Apakah semakin tua usia seseorang semakin tinggi kemungkinan terkena diabetes  ?"
   ]
  },
  {
   "cell_type": "markdown",
   "metadata": {},
   "source": [
    "- Langkah pertama kita harus mengetahui distribusi data dari column Age dan HbA1c, untuk menemukan metode kolerasi yang tepat."
   ]
  },
  {
   "cell_type": "code",
   "execution_count": 427,
   "metadata": {},
   "outputs": [
    {
     "name": "stdout",
     "output_type": "stream",
     "text": [
      "Skewness of Age: 0.12\n",
      "Kurtosis of Age: -0.96\n",
      "\n",
      "Interpretation:\n",
      "Age data distribution is right-skewed (positively skewed).\n",
      "Age is platykurtic (light-tailed).\n"
     ]
    }
   ],
   "source": [
    "#Computing Normality Test of data Distribution\n",
    "skewness_Age = df['Age'].skew()\n",
    "kurtosis_Age = df['Age'].kurtosis()\n",
    "\n",
    "print(f\"Skewness of Age: {skewness_Age:.2f}\")\n",
    "print(f\"Kurtosis of Age: {kurtosis_Age:.2f}\")\n",
    "\n",
    "# Determine distribution characteristics\n",
    "print(\"\\nInterpretation:\")\n",
    "if skewness_Age >  0:\n",
    "    print(\"Age data distribution is right-skewed (positively skewed).\")\n",
    "elif skewness_Age <  0:\n",
    "    print(\"Age data distribution is left-skewed (negatively skewed).\")\n",
    "else:\n",
    "    print(\"Age data distribution is symmetric.\")\n",
    "\n",
    "if kurtosis_Age > 0:\n",
    "    print(\"Age is leptokurtic (heavy-tailed).\")\n",
    "elif kurtosis_Age < 0:\n",
    "    print(\"Age is platykurtic (light-tailed).\")\n",
    "else:\n",
    "    print(\"Age has normal kurtosis (mesokurtic).\")"
   ]
  },
  {
   "cell_type": "markdown",
   "metadata": {},
   "source": [
    "- Column Age Menunjukan bukan distribusi normal yaitu memiliki distribusi data right skewed, dengan kata lain kumpulan data berada di sebelah kiri dari pusat data, dengan data yang menurun menyerupai ekor ke sebelah kanan. Dengan bentuk platykurtic, yaitu memiliki puncak yang lebih datar dibandingkan dengan distribusi normal. Ini menunjukkan lebih sedikit outlier atau nilai ekstrim dibandingkan distribusi normal."
   ]
  },
  {
   "cell_type": "code",
   "execution_count": 458,
   "metadata": {},
   "outputs": [
    {
     "data": {
      "text/plain": [
       "<Axes: xlabel='Age'>"
      ]
     },
     "execution_count": 458,
     "metadata": {},
     "output_type": "execute_result"
    },
    {
     "data": {
      "image/png": "[encoded data removed]",
      "text/plain": [
       "<Figure size 1000x500 with 2 Axes>"
      ]
     },
     "metadata": {},
     "output_type": "display_data"
    }
   ],
   "source": [
    "fig, axes = plt.subplots(ncols=2,figsize=(10, 5))\n",
    "\n",
    "sns.histplot(x=df['Age'],kde=True,ax=axes[0],color='red')\n",
    "sns.boxplot(x=df['Age'],ax=axes[1],color='red')"
   ]
  },
  {
   "cell_type": "markdown",
   "metadata": {},
   "source": [
    "- Histogram Age : Bukan bentuk distribusi normal, dengan skewness : 0,12 yang merupakan right - moderately skewed (puncak kemiringan berada sedikit kekiri dari pusat data (40 tahun) dengan frekuensi observasi data yang lebih rendah di sebelah kanan), Kurtosis score -0.96 menunjukan bentuk data platykurtic (light-tailed) dan memiliki puncak yang lebih datar dibandingkan dengan distribusi normal. Ini menunjukkan lebih sedikit outlier atau nilai ekstrim dibandingkan distribusi normal.\n",
    "\n",
    "- Boxplot Age :\n",
    "Apabila dilihat berdasarkan IQR dan Q2 / median (40 Tahun), persebaran berdasarkan posisi IQR atau box merah  mengarah sedikit ke arah sebelah kiri, tanpa adanya outlier yang terdeteksi diluar titik minimum maupun maximum data.\n",
    "\n",
    "\n"
   ]
  },
  {
   "cell_type": "markdown",
   "metadata": {},
   "source": [
    "- Column Age Menunjukan data distribusi normal. Distribusi data right skewed, dengan kata lain kumpulan data berada di sebelah kiri dari pusat data, dengan data yang menurun menyerupai ekor ke sebelah kanan. Dengan bentuk platykurtic, yaitu memiliki puncak yang lebih datar dibandingkan dengan distribusi normal. Ini menunjukkan lebih sedikit outlier atau nilai ekstrim dibandingkan distribusi normal."
   ]
  },
  {
   "cell_type": "code",
   "execution_count": 429,
   "metadata": {},
   "outputs": [
    {
     "name": "stdout",
     "output_type": "stream",
     "text": [
      "\n",
      "Skewness of HbA1c : 0.43\n",
      "Kurtosis of HbA1c : -0.95\n",
      "\n",
      "Interpretation:\n",
      " HbA1c data distribution is right-skewed (positively skewed).\n",
      "HbA1c is platykurtic (light-tailed).\n"
     ]
    }
   ],
   "source": [
    "#Computing Normality Test of data Distribution\n",
    "skewness_HbA1c = df['HbA1c'].skew()\n",
    "kurtosis_HbA1c = df['HbA1c'].kurtosis()\n",
    "\n",
    "print(f\"\\nSkewness of HbA1c : {skewness_HbA1c:.2f}\")\n",
    "print(f\"Kurtosis of HbA1c : {kurtosis_HbA1c:.2f}\")\n",
    "\n",
    "\n",
    "# Determine distribution characteristics\n",
    "print(\"\\nInterpretation:\")\n",
    "if skewness_HbA1c >  0:\n",
    "    print(\" HbA1c data distribution is right-skewed (positively skewed).\")\n",
    "elif skewness_HbA1c <  0:\n",
    "    print(\"HbA1c data distribution is left-skewed (negatively skewed).\")\n",
    "else:\n",
    "    print(\"HbA1c data distribution is symmetric.\")\n",
    "\n",
    "if kurtosis_HbA1c > 0:\n",
    "    print(\"HbA1c is leptokurtic (heavy-tailed).\")\n",
    "elif kurtosis_HbA1c < 0:\n",
    "    print(\"HbA1c is platykurtic (light-tailed).\")\n",
    "else:\n",
    "    print(\"HbA1c has normal kurtosis (mesokurtic).\")\n",
    "\n"
   ]
  },
  {
   "cell_type": "markdown",
   "metadata": {},
   "source": [
    "- Column HbA1c juga bukan merupakan data dengan distribusi normal. Memiliki distribusi data right skewed, dengan kata lain kumpulan data berada di sebelah kiri dari pusat data, dengan data yang menurun menyerupai ekor ke sebelah kanan. Dengan bentuk platykurtic, yaitu memiliki puncak yang lebih datar menunjukkan lebih sedikit outlier atau nilai ekstrim."
   ]
  },
  {
   "cell_type": "code",
   "execution_count": 430,
   "metadata": {},
   "outputs": [
    {
     "data": {
      "text/plain": [
       "<Axes: xlabel='HbA1c'>"
      ]
     },
     "execution_count": 430,
     "metadata": {},
     "output_type": "execute_result"
    },
    {
     "data": {
      "image/png": "[encoded data removed]",
      "text/plain": [
       "<Figure size 1000x500 with 2 Axes>"
      ]
     },
     "metadata": {},
     "output_type": "display_data"
    }
   ],
   "source": [
    "fig, axes = plt.subplots(ncols=2,figsize=(10, 5))\n",
    "\n",
    "sns.histplot(x=df['HbA1c'],kde=True,ax=axes[0],color='red')\n",
    "sns.boxplot(x=df['HbA1c'],ax=axes[1],color='red')"
   ]
  },
  {
   "cell_type": "markdown",
   "metadata": {},
   "source": [
    "- Histogram HbA1c : Bukan merupakan bentuk distribusi normal, dengan sebagian besar titik data berada di sisi kiri dengan puncak data yang berada di paling kiri dari pusat data yaitu 8%, walaupun begitu distribusi ini masuk ke dalam moderately skewed karena skewness berada di angka 0.43. \n",
    "\n",
    "\n",
    "- Boxplot HbA1c : Apabila dilihat berdasarkan IQR dan Q2 / median (8%), IQR atau box merah lebih ke arah ujung kiri menunjukan distribusi data tersebar banyak di sebelah kiri, tanpa adanya outlier yang terdeteksi diluar titik minimum maupun maximum data.\n"
   ]
  },
  {
   "cell_type": "markdown",
   "metadata": {},
   "source": [
    "- Karena distribusi data yg tidak normal, kolerasi tes yang tepat adalah menggunakan metode spearman karena tidak sensitif terhadap outlier."
   ]
  },
  {
   "cell_type": "code",
   "execution_count": 431,
   "metadata": {},
   "outputs": [
    {
     "name": "stdout",
     "output_type": "stream",
     "text": [
      "\n",
      "Pearson Correlation: 0.75\n"
     ]
    }
   ],
   "source": [
    "#Computing Spearman Correlation Test\n",
    "corr1 = df['Age'].corr(df['HbA1c'], method='spearman')\n",
    "\n",
    "print(f\"\\nPearson Correlation: {corr1:.2f}\")\n",
    "\n"
   ]
  },
  {
   "cell_type": "markdown",
   "metadata": {},
   "source": [
    "- Korelasi 0,75–0,99 termasuk dalam kategori korelasi sangat kuat, terkait permasalahan diatas dapat disimpulkan bahwa usia dan gula darah HbA1c memiliki kolerasi yang positif dimana apabila satu variable meningkat makan variable lainnya juga ikut meningkat dengan kata lain semakin tinggi usia semakin meningkat juga gula darah dalam tubuh yang berpotensi seorang terkena diabetes.\n"
   ]
  },
  {
   "cell_type": "code",
   "execution_count": 432,
   "metadata": {},
   "outputs": [
    {
     "data": {
      "text/plain": [
       "<seaborn.axisgrid.FacetGrid at 0x15746b980>"
      ]
     },
     "execution_count": 432,
     "metadata": {},
     "output_type": "execute_result"
    },
    {
     "data": {
      "image/png": "[encoded data removed]",
      "text/plain": [
       "<Figure size 500x500 with 1 Axes>"
      ]
     },
     "metadata": {},
     "output_type": "display_data"
    }
   ],
   "source": [
    "sns.lmplot(data=df,x='Age', y='HbA1c')"
   ]
  },
  {
   "cell_type": "markdown",
   "metadata": {},
   "source": [
    "- Scatter plot diatas menunjukan kolerasi yang positif antara sel gula dara dan usia. Dimana semakin tinggi usia kadar kadar gula darah meningkat baik secara alami maupun pola hidup manusia."
   ]
  },
  {
   "cell_type": "markdown",
   "metadata": {},
   "source": [
    "### 3. Siapakah diantara pria dan wanita yang diprediksi lebih banyak terkena diabetes ?"
   ]
  },
  {
   "cell_type": "markdown",
   "metadata": {},
   "source": [
    "- Untuk menjawab pertanyaan ini kita harus membuat kategori baru pada HbA1c untuk melihat siapa saja diantara pria dan wanita yang mempunyai potensi terkena diabetes terbesar dari sample riwayat kesehatan pasien."
   ]
  },
  {
   "cell_type": "code",
   "execution_count": 433,
   "metadata": {},
   "outputs": [
    {
     "data": {
      "text/html": [
       "<div>\n",
       "<style scoped>\n",
       "    .dataframe tbody tr th:only-of-type {\n",
       "        vertical-align: middle;\n",
       "    }\n",
       "\n",
       "    .dataframe tbody tr th {\n",
       "        vertical-align: top;\n",
       "    }\n",
       "\n",
       "    .dataframe thead th {\n",
       "        text-align: right;\n",
       "    }\n",
       "</style>\n",
       "<table border=\"1\" class=\"dataframe\">\n",
       "  <thead>\n",
       "    <tr style=\"text-align: right;\">\n",
       "      <th></th>\n",
       "      <th>Age</th>\n",
       "      <th>Gender</th>\n",
       "      <th>BMI</th>\n",
       "      <th>Blood Pressure</th>\n",
       "      <th>FBS</th>\n",
       "      <th>HbA1c</th>\n",
       "      <th>Family History of Diabetes</th>\n",
       "      <th>Smoking</th>\n",
       "      <th>Diet</th>\n",
       "      <th>Exercise</th>\n",
       "      <th>Diagnosis</th>\n",
       "      <th>HbA1c_Category</th>\n",
       "    </tr>\n",
       "  </thead>\n",
       "  <tbody>\n",
       "    <tr>\n",
       "      <th>0</th>\n",
       "      <td>45</td>\n",
       "      <td>Male</td>\n",
       "      <td>25</td>\n",
       "      <td>Normal</td>\n",
       "      <td>100</td>\n",
       "      <td>5.7</td>\n",
       "      <td>No</td>\n",
       "      <td>No</td>\n",
       "      <td>Healthy</td>\n",
       "      <td>Regular</td>\n",
       "      <td>No</td>\n",
       "      <td>Normal</td>\n",
       "    </tr>\n",
       "    <tr>\n",
       "      <th>1</th>\n",
       "      <td>55</td>\n",
       "      <td>Female</td>\n",
       "      <td>30</td>\n",
       "      <td>High</td>\n",
       "      <td>120</td>\n",
       "      <td>6.4</td>\n",
       "      <td>Yes</td>\n",
       "      <td>Yes</td>\n",
       "      <td>Poor</td>\n",
       "      <td>No</td>\n",
       "      <td>Yes</td>\n",
       "      <td>Pre Diabetes</td>\n",
       "    </tr>\n",
       "    <tr>\n",
       "      <th>2</th>\n",
       "      <td>65</td>\n",
       "      <td>Male</td>\n",
       "      <td>35</td>\n",
       "      <td>High</td>\n",
       "      <td>140</td>\n",
       "      <td>7.1</td>\n",
       "      <td>Yes</td>\n",
       "      <td>Yes</td>\n",
       "      <td>Poor</td>\n",
       "      <td>No</td>\n",
       "      <td>Yes</td>\n",
       "      <td>Diabetes</td>\n",
       "    </tr>\n",
       "    <tr>\n",
       "      <th>3</th>\n",
       "      <td>75</td>\n",
       "      <td>Female</td>\n",
       "      <td>40</td>\n",
       "      <td>High</td>\n",
       "      <td>160</td>\n",
       "      <td>7.8</td>\n",
       "      <td>Yes</td>\n",
       "      <td>Yes</td>\n",
       "      <td>Poor</td>\n",
       "      <td>No</td>\n",
       "      <td>Yes</td>\n",
       "      <td>Diabetes</td>\n",
       "    </tr>\n",
       "    <tr>\n",
       "      <th>4</th>\n",
       "      <td>40</td>\n",
       "      <td>Male</td>\n",
       "      <td>20</td>\n",
       "      <td>Normal</td>\n",
       "      <td>80</td>\n",
       "      <td>5.0</td>\n",
       "      <td>No</td>\n",
       "      <td>No</td>\n",
       "      <td>Healthy</td>\n",
       "      <td>Regular</td>\n",
       "      <td>No</td>\n",
       "      <td>Normal</td>\n",
       "    </tr>\n",
       "  </tbody>\n",
       "</table>\n",
       "</div>"
      ],
      "text/plain": [
       "   Age  Gender  BMI Blood Pressure  FBS  HbA1c Family History of Diabetes  \\\n",
       "0   45    Male   25         Normal  100    5.7                         No   \n",
       "1   55  Female   30           High  120    6.4                        Yes   \n",
       "2   65    Male   35           High  140    7.1                        Yes   \n",
       "3   75  Female   40           High  160    7.8                        Yes   \n",
       "4   40    Male   20         Normal   80    5.0                         No   \n",
       "\n",
       "  Smoking     Diet Exercise Diagnosis HbA1c_Category  \n",
       "0      No  Healthy  Regular        No         Normal  \n",
       "1     Yes     Poor       No       Yes   Pre Diabetes  \n",
       "2     Yes     Poor       No       Yes       Diabetes  \n",
       "3     Yes     Poor       No       Yes       Diabetes  \n",
       "4      No  Healthy  Regular        No         Normal  "
      ]
     },
     "execution_count": 433,
     "metadata": {},
     "output_type": "execute_result"
    }
   ],
   "source": [
    "#Compute classify HbA1c\n",
    "def classify_Age(HbA1c):\n",
    "    if HbA1c <= 5.7:\n",
    "        return 'Normal'\n",
    "    elif 5.7 <= HbA1c <= 6.4:\n",
    "        return 'Pre Diabetes'\n",
    "    else:\n",
    "        return 'Diabetes'\n",
    "#Making new table \n",
    "dc = df.copy()    \n",
    "dc['HbA1c_Category'] = dc['HbA1c'].apply(classify_Age)\n",
    "\n",
    "dc.head()"
   ]
  },
  {
   "cell_type": "markdown",
   "metadata": {},
   "source": [
    "- code diatas membuat table tambahan yaitu HbA1c_Category ke dalam variable baru yaitu 'dc' mengubah HbA1c menjadi 3 kategori yaitu < 5.7 = normal,< 6.4 = Pra diabetes, dan diatasnya sebagai diabetes."
   ]
  },
  {
   "cell_type": "code",
   "execution_count": 434,
   "metadata": {},
   "outputs": [
    {
     "data": {
      "text/html": [
       "<div>\n",
       "<style scoped>\n",
       "    .dataframe tbody tr th:only-of-type {\n",
       "        vertical-align: middle;\n",
       "    }\n",
       "\n",
       "    .dataframe tbody tr th {\n",
       "        vertical-align: top;\n",
       "    }\n",
       "\n",
       "    .dataframe thead th {\n",
       "        text-align: right;\n",
       "    }\n",
       "</style>\n",
       "<table border=\"1\" class=\"dataframe\">\n",
       "  <thead>\n",
       "    <tr style=\"text-align: right;\">\n",
       "      <th></th>\n",
       "      <th>Age</th>\n",
       "      <th>Gender</th>\n",
       "      <th>BMI</th>\n",
       "      <th>Blood Pressure</th>\n",
       "      <th>FBS</th>\n",
       "      <th>HbA1c</th>\n",
       "      <th>Family History of Diabetes</th>\n",
       "      <th>Smoking</th>\n",
       "      <th>Diet</th>\n",
       "      <th>Exercise</th>\n",
       "      <th>Diagnosis</th>\n",
       "      <th>HbA1c_Category</th>\n",
       "    </tr>\n",
       "  </thead>\n",
       "  <tbody>\n",
       "    <tr>\n",
       "      <th>0</th>\n",
       "      <td>45</td>\n",
       "      <td>Male</td>\n",
       "      <td>25</td>\n",
       "      <td>Normal</td>\n",
       "      <td>100</td>\n",
       "      <td>5.7</td>\n",
       "      <td>No</td>\n",
       "      <td>No</td>\n",
       "      <td>Healthy</td>\n",
       "      <td>Regular</td>\n",
       "      <td>No</td>\n",
       "      <td>Normal</td>\n",
       "    </tr>\n",
       "    <tr>\n",
       "      <th>1</th>\n",
       "      <td>55</td>\n",
       "      <td>Female</td>\n",
       "      <td>30</td>\n",
       "      <td>High</td>\n",
       "      <td>120</td>\n",
       "      <td>6.4</td>\n",
       "      <td>Yes</td>\n",
       "      <td>Yes</td>\n",
       "      <td>Poor</td>\n",
       "      <td>No</td>\n",
       "      <td>Yes</td>\n",
       "      <td>Pre Diabetes</td>\n",
       "    </tr>\n",
       "    <tr>\n",
       "      <th>2</th>\n",
       "      <td>65</td>\n",
       "      <td>Male</td>\n",
       "      <td>35</td>\n",
       "      <td>High</td>\n",
       "      <td>140</td>\n",
       "      <td>7.1</td>\n",
       "      <td>Yes</td>\n",
       "      <td>Yes</td>\n",
       "      <td>Poor</td>\n",
       "      <td>No</td>\n",
       "      <td>Yes</td>\n",
       "      <td>Diabetes</td>\n",
       "    </tr>\n",
       "    <tr>\n",
       "      <th>3</th>\n",
       "      <td>75</td>\n",
       "      <td>Female</td>\n",
       "      <td>40</td>\n",
       "      <td>High</td>\n",
       "      <td>160</td>\n",
       "      <td>7.8</td>\n",
       "      <td>Yes</td>\n",
       "      <td>Yes</td>\n",
       "      <td>Poor</td>\n",
       "      <td>No</td>\n",
       "      <td>Yes</td>\n",
       "      <td>Diabetes</td>\n",
       "    </tr>\n",
       "    <tr>\n",
       "      <th>4</th>\n",
       "      <td>40</td>\n",
       "      <td>Male</td>\n",
       "      <td>20</td>\n",
       "      <td>Normal</td>\n",
       "      <td>80</td>\n",
       "      <td>5.0</td>\n",
       "      <td>No</td>\n",
       "      <td>No</td>\n",
       "      <td>Healthy</td>\n",
       "      <td>Regular</td>\n",
       "      <td>No</td>\n",
       "      <td>Normal</td>\n",
       "    </tr>\n",
       "  </tbody>\n",
       "</table>\n",
       "</div>"
      ],
      "text/plain": [
       "   Age  Gender  BMI Blood Pressure  FBS  HbA1c Family History of Diabetes  \\\n",
       "0   45    Male   25         Normal  100    5.7                         No   \n",
       "1   55  Female   30           High  120    6.4                        Yes   \n",
       "2   65    Male   35           High  140    7.1                        Yes   \n",
       "3   75  Female   40           High  160    7.8                        Yes   \n",
       "4   40    Male   20         Normal   80    5.0                         No   \n",
       "\n",
       "  Smoking     Diet Exercise Diagnosis HbA1c_Category  \n",
       "0      No  Healthy  Regular        No         Normal  \n",
       "1     Yes     Poor       No       Yes   Pre Diabetes  \n",
       "2     Yes     Poor       No       Yes       Diabetes  \n",
       "3     Yes     Poor       No       Yes       Diabetes  \n",
       "4      No  Healthy  Regular        No         Normal  "
      ]
     },
     "execution_count": 434,
     "metadata": {},
     "output_type": "execute_result"
    }
   ],
   "source": [
    "dc.head()"
   ]
  },
  {
   "cell_type": "code",
   "execution_count": 452,
   "metadata": {},
   "outputs": [
    {
     "data": {
      "text/plain": [
       "Gender  HbA1c_Category\n",
       "Female  Diabetes          44\n",
       "        Normal            15\n",
       "        Pre Diabetes       1\n",
       "Male    Diabetes          37\n",
       "        Normal            16\n",
       "        Pre Diabetes      15\n",
       "Name: count, dtype: int64"
      ]
     },
     "execution_count": 452,
     "metadata": {},
     "output_type": "execute_result"
    }
   ],
   "source": [
    "dc.groupby('Gender')['HbA1c_Category'].value_counts()"
   ]
  },
  {
   "cell_type": "code",
   "execution_count": null,
   "metadata": {},
   "outputs": [],
   "source": [
    "- Berikut adalah code untuk mengetahui kondisi pasien pria dan wanita dengan kondisi diagnosis berdasarkan sel gula darah HbA1c nya masing - masing"
   ]
  },
  {
   "cell_type": "code",
   "execution_count": 325,
   "metadata": {},
   "outputs": [
    {
     "data": {
      "image/png": "[encoded data removed]",
      "text/plain": [
       "<Figure size 600x400 with 1 Axes>"
      ]
     },
     "metadata": {},
     "output_type": "display_data"
    }
   ],
   "source": [
    "\n",
    "plt.figure(figsize=(6, 4))\n",
    "sns.countplot(x=dcm['HbA1c_Category'], color='red')\n",
    "plt.title('Diagnosis Diabetes Pada Pria')\n",
    "plt.xlabel('Level Gula Darah')\n",
    "plt.ylabel('Tingkat HbA1c')\n",
    "plt.xticks(rotation=45)\n",
    "plt.show()\n"
   ]
  },
  {
   "cell_type": "markdown",
   "metadata": {},
   "source": [
    "- Total dari 68 sample pasien pria 37 positif mengidap deiabetes\n",
    "- Dengan Pre diabetes sebanyak 15 pasien\n",
    "- Pasien pria kadar gula normal 16 pasien"
   ]
  },
  {
   "cell_type": "code",
   "execution_count": 324,
   "metadata": {},
   "outputs": [
    {
     "data": {
      "image/png": "[encoded data removed]",
      "text/plain": [
       "<Figure size 600x400 with 1 Axes>"
      ]
     },
     "metadata": {},
     "output_type": "display_data"
    }
   ],
   "source": [
    "\n",
    "plt.figure(figsize=(6, 4))\n",
    "sns.countplot(x=dcf['HbA1c_Category'], color='red')\n",
    "plt.title('Diagnosis Diabetes Pada Wanita')\n",
    "plt.xlabel('Level Gula Darah')\n",
    "plt.ylabel('Tingkat HbA1c')\n",
    "plt.xticks(rotation=45)\n",
    "plt.show()"
   ]
  },
  {
   "cell_type": "markdown",
   "metadata": {},
   "source": [
    "- Total dari 60 sample pasien wanita 44 positif mengidap deiabetes\n",
    "- Dengan Pre diabetes sebanyak 1 pasien\n",
    "- Pasien wanita dengan kadar gula normal 15 pasien"
   ]
  },
  {
   "cell_type": "markdown",
   "metadata": {},
   "source": [
    "- Kesimpulan : data menurut sample diatas menggambarkan perempuan dengan status diabetes memiliki jumblah yang lebih banyak dibandingkan pria. Namun apabila ditotal dengan pra diabetes pasien pria memiliki total yang lebih signifikan."
   ]
  },
  {
   "cell_type": "markdown",
   "metadata": {},
   "source": [
    "### Apakah terdapat perbedaan HbA1c (sel gula darah) yang signifikan antara pasien yang merokok dan tidak merokok ?"
   ]
  },
  {
   "cell_type": "markdown",
   "metadata": {},
   "source": [
    "- Untuk menjawab prtanyaan diatas pertama kita harus mengetahui kolerasi antara kedua variable Smoking dan HbA1c, untuk menentukan fungsi yang tepat untuk digunakan pada two sample tes. Dengan menggunakan Spearman test mengingat distribusi data dari HbA1c yang bukan merupakan distribusi normal."
   ]
  },
  {
   "cell_type": "code",
   "execution_count": 449,
   "metadata": {},
   "outputs": [
    {
     "name": "stdout",
     "output_type": "stream",
     "text": [
      "\n",
      "spearman rho: -0.12047478398077624\n",
      "P-value: 0.175549810573509\n"
     ]
    }
   ],
   "source": [
    "#Computing Spearman Correlation Test\n",
    "#Computing Kolerasi Spearman\n",
    "def s_corr(col):\n",
    "  res = stats.spearmanr(hl[col],hl['Smoking'])\n",
    "  rho = res.statistic\n",
    "  pval = res.pvalue\n",
    "  print('\\nspearman rho:',rho)\n",
    "  print('P-value:',pval)\n",
    "\n",
    "s_corr('HbA1c')"
   ]
  },
  {
   "cell_type": "markdown",
   "metadata": {},
   "source": [
    "- Hasil tes diatas hampir tidak menunjukan adanya kolerasi yang kuat, untuk itu  kita akan melakukan hipotesis testing menggunakan fungsi yang khusus digunakan untuk variable yang tidak terkait satu sama lain (independent)."
   ]
  },
  {
   "cell_type": "code",
   "execution_count": 453,
   "metadata": {},
   "outputs": [
    {
     "name": "stdout",
     "output_type": "stream",
     "text": [
      "\n",
      "Hypotheses:\n",
      "Null Hypothesis (H0): Tidak ada perbedaan HbA1c yang signifikan antara Perokok dan Bukan Perokok.\n",
      "Alternative Hypothesis (H1): Terdapat perbedaan HbA1c yang signifikan antara Perokok dan Bukan Perokok.\n",
      "\n",
      "T-statistic: -1.85\n",
      "P-value: 0.0687\n",
      "Fail to reject the null hypothesis.  Tidak ada perbedaan HbA1c yang signifikan antara Perokok dan Bukan Perokok.\n"
     ]
    }
   ],
   "source": [
    "##  Two Sample T-Test\n",
    "\n",
    "# Formulate hypotheses\n",
    "print(\"\\nHypotheses:\")\n",
    "print(\"Null Hypothesis (H0): Tidak ada perbedaan HbA1c yang signifikan antara Perokok dan Bukan Perokok.\")\n",
    "print(\"Alternative Hypothesis (H1): Terdapat perbedaan HbA1c yang signifikan antara Perokok dan Bukan Perokok.\")\n",
    "\n",
    "# Extract groups\n",
    "Smoking = hl[hl['Smoking'] == 1]['HbA1c']\n",
    "No_smoking = hl[hl['Smoking'] == 0]['HbA1c']\n",
    "\n",
    "\n",
    "# Perform dependent t-test and p-value\n",
    "t_stat_two_sample, p_value_two_sample =  stats.ttest_ind(Smoking.sample(40), No_smoking.sample(40))#we take 40 sample of each data to make the size the same.\n",
    "\n",
    "print(f\"\\nT-statistic: {t_stat_two_sample:.2f}\")\n",
    "print(f\"P-value: {p_value_two_sample:.4f}\")\n",
    "\n",
    "# Conclusion\n",
    "if p_value_two_sample < 0.05:\n",
    "    print(\"Reject the null hypothesis. Terdapat perbedaan HbA1c yang signifikan antara Perokok dan Bukan Perokok.\")\n",
    "else:\n",
    "    print(\"Fail to reject the null hypothesis.  Tidak ada perbedaan HbA1c yang signifikan antara Perokok dan Bukan Perokok.\")"
   ]
  },
  {
   "cell_type": "markdown",
   "metadata": {},
   "source": [
    "- Dari hasil hipotesis testing diatas menunjukan bahwa tidak ada perbedaan HbA1c (sel gula darah) yang signifikan antara Perokok dan Bukan Perokok. Bisa dikatakan bahwa kebiasaan merokok tidak berpengaruh secara signifikan dalam mendeteksi penyakit diabetes pada pasien."
   ]
  },
  {
   "cell_type": "code",
   "execution_count": 493,
   "metadata": {},
   "outputs": [
    {
     "data": {
      "text/plain": [
       "Smoking\n",
       "Yes    79\n",
       "No     49\n",
       "Name: count, dtype: int64"
      ]
     },
     "execution_count": 493,
     "metadata": {},
     "output_type": "execute_result"
    }
   ],
   "source": [
    "df['Smoking'].value_counts()"
   ]
  },
  {
   "cell_type": "code",
   "execution_count": 490,
   "metadata": {},
   "outputs": [
    {
     "data": {
      "image/png": "[encoded data removed]",
      "text/plain": [
       "<Figure size 500x800 with 1 Axes>"
      ]
     },
     "metadata": {},
     "output_type": "display_data"
    }
   ],
   "source": [
    "fig,ax1 = plt.subplots(figsize=(5,8))\n",
    "\n",
    "df['Smoking'].value_counts().plot(kind='pie', autopct='%.2f%%',ax=ax1)\n",
    "plt.title('Smoking')\n",
    "plt.show()"
   ]
  },
  {
   "cell_type": "markdown",
   "metadata": {},
   "source": [
    "#### 5. Apakah pola makan dan kebiasaan berolah raga memiliki kaitan dengan hasil diagnosis ?\n"
   ]
  },
  {
   "cell_type": "markdown",
   "metadata": {},
   "source": [
    "- Untuk menjawab pertanyaan ini kita harus melakukan test terhadap beberapa data berbentuk kategori, untuk itu pilihan yang tepat adalah menggunakkan chi square test."
   ]
  },
  {
   "cell_type": "code",
   "execution_count": 240,
   "metadata": {},
   "outputs": [
    {
     "data": {
      "text/html": [
       "<div>\n",
       "<style scoped>\n",
       "    .dataframe tbody tr th:only-of-type {\n",
       "        vertical-align: middle;\n",
       "    }\n",
       "\n",
       "    .dataframe tbody tr th {\n",
       "        vertical-align: top;\n",
       "    }\n",
       "\n",
       "    .dataframe thead th {\n",
       "        text-align: right;\n",
       "    }\n",
       "</style>\n",
       "<table border=\"1\" class=\"dataframe\">\n",
       "  <thead>\n",
       "    <tr style=\"text-align: right;\">\n",
       "      <th>Diagnosis</th>\n",
       "      <th>No</th>\n",
       "      <th>Yes</th>\n",
       "    </tr>\n",
       "    <tr>\n",
       "      <th>Diet</th>\n",
       "      <th></th>\n",
       "      <th></th>\n",
       "    </tr>\n",
       "  </thead>\n",
       "  <tbody>\n",
       "    <tr>\n",
       "      <th>Healthy</th>\n",
       "      <td>49</td>\n",
       "      <td>0</td>\n",
       "    </tr>\n",
       "    <tr>\n",
       "      <th>Poor</th>\n",
       "      <td>48</td>\n",
       "      <td>31</td>\n",
       "    </tr>\n",
       "  </tbody>\n",
       "</table>\n",
       "</div>"
      ],
      "text/plain": [
       "Diagnosis  No  Yes\n",
       "Diet              \n",
       "Healthy    49    0\n",
       "Poor       48   31"
      ]
     },
     "execution_count": 240,
     "metadata": {},
     "output_type": "execute_result"
    }
   ],
   "source": [
    "#Contingency Table\n",
    "contingency_table2 = pd.crosstab(df['Diet'],df['Diagnosis'])\n",
    "contingency_table2\n"
   ]
  },
  {
   "cell_type": "code",
   "execution_count": null,
   "metadata": {},
   "outputs": [],
   "source": [
    "- melakukan summerize terhadap kolom diet dan diagnosis"
   ]
  },
  {
   "cell_type": "code",
   "execution_count": 455,
   "metadata": {},
   "outputs": [
    {
     "name": "stdout",
     "output_type": "stream",
     "text": [
      "\n",
      "Hypotheses:\n",
      "Null Hypothesis (H0): Tidak ada hubungan yang signifikan antara Pola Makan dan diagnosis.\n",
      "Alternative Hypothesis (H1): Terdapat hubungan yang signifikan antara Pola Makan dan diagnosis.\n",
      "\n",
      "P-value: 1.4006289756531896e-06\n",
      "\n",
      "Reject the null hypothesis. Terdapat hubungan yang signifikan antara Pola Makan dan diagnosis.\n"
     ]
    }
   ],
   "source": [
    "# Formulate hypotheses\n",
    "print(\"\\nHypotheses:\")\n",
    "print(\"Null Hypothesis (H0): Tidak ada hubungan yang signifikan antara Pola Makan dan diagnosis.\")\n",
    "print(\"Alternative Hypothesis (H1): Terdapat hubungan yang signifikan antara Pola Makan dan diagnosis.\")\n",
    "\n",
    "#Compute Chi Square Test\n",
    "res2 = stats.chi2_contingency(contingency_table2)\n",
    "print(\"\\nP-value:\",res2.pvalue)\n",
    "\n",
    "# Conclusion\n",
    "if res2.pvalue < 0.05:\n",
    "    print(\"\\nReject the null hypothesis. Terdapat hubungan yang signifikan antara Pola Makan dan diagnosis.\")\n",
    "else:\n",
    "    print(\"Fail to reject the null hypothesis. Tidak ada hubungan antara Pola Makan dan diagnosis.\")"
   ]
  },
  {
   "cell_type": "markdown",
   "metadata": {},
   "source": [
    "- Hasil menunjukan berhasil mereject null hipotesis sehingga menghasilkan hasil terdapat hubungan yang signifikan antara pola makan dan hasil diagnosis. Selanjutnya melakukan chi square test kedua untuk Pola Makan dan diagnosis."
   ]
  },
  {
   "cell_type": "code",
   "execution_count": 244,
   "metadata": {},
   "outputs": [
    {
     "data": {
      "text/html": [
       "<div>\n",
       "<style scoped>\n",
       "    .dataframe tbody tr th:only-of-type {\n",
       "        vertical-align: middle;\n",
       "    }\n",
       "\n",
       "    .dataframe tbody tr th {\n",
       "        vertical-align: top;\n",
       "    }\n",
       "\n",
       "    .dataframe thead th {\n",
       "        text-align: right;\n",
       "    }\n",
       "</style>\n",
       "<table border=\"1\" class=\"dataframe\">\n",
       "  <thead>\n",
       "    <tr style=\"text-align: right;\">\n",
       "      <th>Diagnosis</th>\n",
       "      <th>No</th>\n",
       "      <th>Yes</th>\n",
       "    </tr>\n",
       "    <tr>\n",
       "      <th>Exercise</th>\n",
       "      <th></th>\n",
       "      <th></th>\n",
       "    </tr>\n",
       "  </thead>\n",
       "  <tbody>\n",
       "    <tr>\n",
       "      <th>No</th>\n",
       "      <td>48</td>\n",
       "      <td>31</td>\n",
       "    </tr>\n",
       "    <tr>\n",
       "      <th>Regular</th>\n",
       "      <td>49</td>\n",
       "      <td>0</td>\n",
       "    </tr>\n",
       "  </tbody>\n",
       "</table>\n",
       "</div>"
      ],
      "text/plain": [
       "Diagnosis  No  Yes\n",
       "Exercise          \n",
       "No         48   31\n",
       "Regular    49    0"
      ]
     },
     "execution_count": 244,
     "metadata": {},
     "output_type": "execute_result"
    }
   ],
   "source": [
    "#Contingency Table\n",
    "contingency_table3 = pd.crosstab(df['Exercise'],df['Diagnosis'])\n",
    "contingency_table3\n"
   ]
  },
  {
   "cell_type": "markdown",
   "metadata": {},
   "source": [
    "- Summerize kedua kolom"
   ]
  },
  {
   "cell_type": "code",
   "execution_count": 454,
   "metadata": {},
   "outputs": [
    {
     "name": "stdout",
     "output_type": "stream",
     "text": [
      "\n",
      "Hypotheses:\n",
      "Null Hypothesis (H0): Tidak ada hubungan yang signifikan antara Olah Raga dan diagnosis.\n",
      "Alternative Hypothesis (H1): Terdapat hubungan yang signifikan antara keturunan diabetes dan diagnosis.\n",
      "\n",
      "P-value: 1.4006289756531896e-06\n",
      "\n",
      "Reject the null hypothesis. Terdapat hubungan yang signifikan antara Olah Raga dan diagnosis.\n"
     ]
    }
   ],
   "source": [
    "# Formulate hypotheses\n",
    "print(\"\\nHypotheses:\")\n",
    "print(\"Null Hypothesis (H0): Tidak ada hubungan yang signifikan antara Olah Raga dan diagnosis.\")\n",
    "print(\"Alternative Hypothesis (H1): Terdapat hubungan yang signifikan antara keturunan diabetes dan diagnosis.\")\n",
    "\n",
    "#Compute Chi Square Test\n",
    "res2 = stats.chi2_contingency(contingency_table3)\n",
    "print(\"\\nP-value:\",res2.pvalue)\n",
    "\n",
    "# Conclusion\n",
    "if res2.pvalue < 0.05:\n",
    "    print(\"\\nReject the null hypothesis. Terdapat hubungan yang signifikan antara Olah Raga dan diagnosis.\")\n",
    "else:\n",
    "    print(\"Fail to reject the null hypothesis. Tidak ada hubungan antara keturunan diabetes dan diagnosis.\")"
   ]
  },
  {
   "cell_type": "markdown",
   "metadata": {},
   "source": [
    "- Hasil hipotesa menunjukan sama - sama menolak null hipotesis sehingga dapat diambil kesimpulan adanya hubungan yang signifikan antara Pola manakan dan olah raga dengan hasil diagnosis diabetes. Secara nyata hal tersebut saling berkesinambungan orang yang berolah raga dapat menurunkan kadar gula  dan pola makan yang baik dengan memakan makanan sehat dan menghindari kadar gula berlebihan dapat membuat kadar gula darah dalam tubuh terkontrol."
   ]
  },
  {
   "cell_type": "markdown",
   "metadata": {},
   "source": [
    "- Pertama kita harus melihat tipe distribusi data pada kolom FBS, untuk menentukan jenis metode  kolerasi."
   ]
  },
  {
   "cell_type": "code",
   "execution_count": 331,
   "metadata": {},
   "outputs": [
    {
     "name": "stdout",
     "output_type": "stream",
     "text": [
      "\n",
      "Skewness of FBS : 0.43\n",
      "Kurtosis of FBS : -0.95\n",
      "\n",
      "Interpretation:\n",
      " FBS data distribution is right-skewed (positively skewed).\n",
      "FBS is platykurtic (light-tailed).\n"
     ]
    }
   ],
   "source": [
    "#Computing Normality Test of data Distribution\n",
    "skewness_HbA1c = df['FBS'].skew()\n",
    "kurtosis_HbA1c = df['FBS'].kurtosis()\n",
    "\n",
    "print(f\"\\nSkewness of FBS : {skewness_HbA1c:.2f}\")\n",
    "print(f\"Kurtosis of FBS : {kurtosis_HbA1c:.2f}\")\n",
    "\n",
    "\n",
    "# Determine distribution characteristics\n",
    "print(\"\\nInterpretation:\")\n",
    "if skewness_HbA1c >  0:\n",
    "    print(\" FBS data distribution is right-skewed (positively skewed).\")\n",
    "elif skewness_HbA1c <  0:\n",
    "    print(\"FBS data distribution is left-skewed (negatively skewed).\")\n",
    "else:\n",
    "    print(\"FBS data distribution is symmetric.\")\n",
    "\n",
    "if kurtosis_HbA1c > 0:\n",
    "    print(\"FBS is leptokurtic (heavy-tailed).\")\n",
    "elif kurtosis_HbA1c < 0:\n",
    "    print(\"FBS is platykurtic (light-tailed).\")\n",
    "else:\n",
    "    print(\"FBS has normal kurtosis (mesokurtic).\")"
   ]
  },
  {
   "cell_type": "markdown",
   "metadata": {},
   "source": [
    "- Berdasarkan skew test diatas menunjukan bahwa distribusi data dari FBS adalah right skewed, atau lebih banyak persebaran data di sebelah kiri dari pusat data dengan frekuensi data yang menurun ke sebelah kanan. Memiliki bentuk platykurtic (light-tailed), yaitu bentuk yaitu memiliki puncak yang lebih datar."
   ]
  },
  {
   "cell_type": "code",
   "execution_count": 483,
   "metadata": {},
   "outputs": [
    {
     "data": {
      "text/plain": [
       "<Axes: xlabel='FBS'>"
      ]
     },
     "execution_count": 483,
     "metadata": {},
     "output_type": "execute_result"
    },
    {
     "data": {
      "image/png": "[encoded data removed]",
      "text/plain": [
       "<Figure size 1000x500 with 2 Axes>"
      ]
     },
     "metadata": {},
     "output_type": "display_data"
    }
   ],
   "source": [
    "fig, axes = plt.subplots(ncols=2,figsize=(10, 5))\n",
    "\n",
    "sns.histplot(x=df['FBS'],kde=True,ax=axes[0],color='green')\n",
    "sns.boxplot(x=df['FBS'],ax=axes[1],color='red')"
   ]
  },
  {
   "cell_type": "markdown",
   "metadata": {},
   "source": [
    "\n",
    "- Histogram FBS : Bukan merupakan bentuk distribusi normal, dengan sebagian besar titik data berada di sisi kiri dari titik tengah atau median (160 mg/dl), dan data yang banyak terkumpul di angka 1 - 100 mg/dl termasuk modus yang berada di angka 40 mg/dl dengan ekor memanjang ke kanan. Dengan skewness : 0.43 yang menunjukan distribusi data right - moderately skewed. Kurtosis score -0.95 menandakan bentuk data platykurtic (light-tailed) menunjukkan lebih sedikit outlier atau nilai ekstrim hingga ujung kanan data.\n",
    "\n",
    "- Boxplot Age : \n",
    "Apabila dilihat berdasarkan IQR dan Q2 / median (160 mg/dl), persebaran data mengarah ke arah sebelah kiri, ditandakan dari box merah yang berada di sisi kiri, tanpa ada adanya outlier yang terdeteksi diluar titik maximum data.\n"
   ]
  },
  {
   "cell_type": "markdown",
   "metadata": {},
   "source": [
    "- Karena memiliki distribusi data yang tidak normal maka kolerasi tes menggunakan metode spearman, yang lebih presisten dalam melakukan tes untuk distribusi data yang tidak normal.\n"
   ]
  },
  {
   "cell_type": "code",
   "execution_count": 333,
   "metadata": {},
   "outputs": [
    {
     "name": "stdout",
     "output_type": "stream",
     "text": [
      "\n",
      "Pearson Correlation: 1.00\n"
     ]
    }
   ],
   "source": [
    "#Computing Spearman Correlation Test\n",
    "corr1 = df['FBS'].corr(df['HbA1c'], method='spearman')\n",
    "\n",
    "print(f\"\\nPearson Correlation: {corr1:.2f}\")"
   ]
  },
  {
   "cell_type": "markdown",
   "metadata": {},
   "source": [
    "- Hasil kolerasi menunjukan angka satu yang bermaksud kedua data ini memiliki kolerasi positif yang sangat kuat. Dimana apabila salah satu variabel meningkat maka satunya lagi akan ikut meningkat. Kaitannya dengan kasus adalah keduanya memiliki data keakuratan yang sama dalam mendeteksi diabetes, yang membedakan hanya hasil FBS hanya berlaku untuk waktu singkat karena bersifat sementara. Berbeda dengan HbA1c yang merupakan hemoglobin terglikasi yang dibuat ketika gula dalam tubuh menempel pada sel darah merah. Sehingga dapat bertahan selama 2 - 3 bulan untuk keperluan diagnosis.\n"
   ]
  },
  {
   "cell_type": "code",
   "execution_count": 373,
   "metadata": {},
   "outputs": [
    {
     "data": {
      "text/plain": [
       "<Axes: xlabel='FBS', ylabel='HbA1c'>"
      ]
     },
     "execution_count": 373,
     "metadata": {},
     "output_type": "execute_result"
    },
    {
     "data": {
      "image/png": "[encoded data removed]",
      "text/plain": [
       "<Figure size 640x480 with 1 Axes>"
      ]
     },
     "metadata": {},
     "output_type": "display_data"
    }
   ],
   "source": [
    "sns.scatterplot(x='FBS',y='HbA1c',data=df,palette='red:red') "
   ]
  },
  {
   "cell_type": "markdown",
   "metadata": {},
   "source": [
    "- Scatter plot diatas menunjukan kolerasi positif yang kuat menunjukan peningkatan yang searah terhadap kedua variable, dimana satu variable meningkat akan menunjukan peningkatan yang sama terhadap variable lainnya, yang berarti kadar gula darah pada FBS dan HbA1c menunjukan tingkat yang searah sehingga menunjukan hasil diagnosis valid."
   ]
  },
  {
   "cell_type": "markdown",
   "metadata": {},
   "source": [
    "- Lalu bagaimanakah kolerasi terhadap pola hidup manusia, kita menggunakan visualisasi heatmap untuk memastikan pertanyaan tersebut"
   ]
  },
  {
   "cell_type": "code",
   "execution_count": 392,
   "metadata": {},
   "outputs": [
    {
     "data": {
      "text/html": [
       "<div>\n",
       "<style scoped>\n",
       "    .dataframe tbody tr th:only-of-type {\n",
       "        vertical-align: middle;\n",
       "    }\n",
       "\n",
       "    .dataframe tbody tr th {\n",
       "        vertical-align: top;\n",
       "    }\n",
       "\n",
       "    .dataframe thead th {\n",
       "        text-align: right;\n",
       "    }\n",
       "</style>\n",
       "<table border=\"1\" class=\"dataframe\">\n",
       "  <thead>\n",
       "    <tr style=\"text-align: right;\">\n",
       "      <th></th>\n",
       "      <th>Age</th>\n",
       "      <th>Gender</th>\n",
       "      <th>BMI</th>\n",
       "      <th>Blood Pressure</th>\n",
       "      <th>FBS</th>\n",
       "      <th>HbA1c</th>\n",
       "      <th>Family History of Diabetes</th>\n",
       "      <th>Smoking</th>\n",
       "      <th>Diet</th>\n",
       "      <th>Exercise</th>\n",
       "      <th>Diagnosis</th>\n",
       "    </tr>\n",
       "  </thead>\n",
       "  <tbody>\n",
       "    <tr>\n",
       "      <th>0</th>\n",
       "      <td>45</td>\n",
       "      <td>Male</td>\n",
       "      <td>25</td>\n",
       "      <td>1</td>\n",
       "      <td>100</td>\n",
       "      <td>5.7</td>\n",
       "      <td>0</td>\n",
       "      <td>0</td>\n",
       "      <td>1</td>\n",
       "      <td>1</td>\n",
       "      <td>0</td>\n",
       "    </tr>\n",
       "    <tr>\n",
       "      <th>1</th>\n",
       "      <td>55</td>\n",
       "      <td>Female</td>\n",
       "      <td>30</td>\n",
       "      <td>2</td>\n",
       "      <td>120</td>\n",
       "      <td>6.4</td>\n",
       "      <td>1</td>\n",
       "      <td>1</td>\n",
       "      <td>0</td>\n",
       "      <td>0</td>\n",
       "      <td>1</td>\n",
       "    </tr>\n",
       "    <tr>\n",
       "      <th>2</th>\n",
       "      <td>65</td>\n",
       "      <td>Male</td>\n",
       "      <td>35</td>\n",
       "      <td>2</td>\n",
       "      <td>140</td>\n",
       "      <td>7.1</td>\n",
       "      <td>1</td>\n",
       "      <td>1</td>\n",
       "      <td>0</td>\n",
       "      <td>0</td>\n",
       "      <td>1</td>\n",
       "    </tr>\n",
       "    <tr>\n",
       "      <th>3</th>\n",
       "      <td>75</td>\n",
       "      <td>Female</td>\n",
       "      <td>40</td>\n",
       "      <td>2</td>\n",
       "      <td>160</td>\n",
       "      <td>7.8</td>\n",
       "      <td>1</td>\n",
       "      <td>1</td>\n",
       "      <td>0</td>\n",
       "      <td>0</td>\n",
       "      <td>1</td>\n",
       "    </tr>\n",
       "    <tr>\n",
       "      <th>4</th>\n",
       "      <td>40</td>\n",
       "      <td>Male</td>\n",
       "      <td>20</td>\n",
       "      <td>1</td>\n",
       "      <td>80</td>\n",
       "      <td>5.0</td>\n",
       "      <td>0</td>\n",
       "      <td>0</td>\n",
       "      <td>1</td>\n",
       "      <td>1</td>\n",
       "      <td>0</td>\n",
       "    </tr>\n",
       "  </tbody>\n",
       "</table>\n",
       "</div>"
      ],
      "text/plain": [
       "   Age  Gender  BMI  Blood Pressure  FBS  HbA1c  Family History of Diabetes  \\\n",
       "0   45    Male   25               1  100    5.7                           0   \n",
       "1   55  Female   30               2  120    6.4                           1   \n",
       "2   65    Male   35               2  140    7.1                           1   \n",
       "3   75  Female   40               2  160    7.8                           1   \n",
       "4   40    Male   20               1   80    5.0                           0   \n",
       "\n",
       "   Smoking  Diet  Exercise  Diagnosis  \n",
       "0        0     1         1          0  \n",
       "1        1     0         0          1  \n",
       "2        1     0         0          1  \n",
       "3        1     0         0          1  \n",
       "4        0     1         1          0  "
      ]
     },
     "execution_count": 392,
     "metadata": {},
     "output_type": "execute_result"
    }
   ],
   "source": [
    "hl.head()"
   ]
  },
  {
   "cell_type": "code",
   "execution_count": 488,
   "metadata": {},
   "outputs": [
    {
     "data": {
      "image/png": "[encoded data removed]",
      "text/plain": [
       "<Figure size 600x800 with 2 Axes>"
      ]
     },
     "metadata": {},
     "output_type": "display_data"
    }
   ],
   "source": [
    "#cols = hl.drop(columns=['Age', 'Gender', 'Blood Pressure','Family History of Diabetes', 'Diagnosis','BMI'])\n",
    "#Menghitung matriks korelasi\n",
    "\n",
    "correlation_matrix = hl.corr(method= 'pearson')\n",
    "\n",
    "#Membuat heatmap\n",
    "plt.figure(figsize=(6, 8))\n",
    "sns.heatmap(correlation_matrix, annot=True, fmt=\".2f\", cmap='Reds', square=True, cbar_kws={\"shrink\": .8})\n",
    "plt.title('Heatmap Korelasi')\n",
    "plt.show()"
   ]
  },
  {
   "cell_type": "markdown",
   "metadata": {},
   "source": [
    "- Diatas menampilkan kolerasi yang lemah antara FBS HbA1c dan pola hidup, Smoking = 0.13, Exercise = 0.13, Diet = 0.13. Sehingga dapat di definisakan bahwa pola hidup dan gula darah tidak terlalu memiliki impact bagi pasien dalam hal diagnosis maupun peningkatan maupun penurunnya.\n",
    "-  Kolerasi yang lebih tinggi terdapat pada faktor genetik seperti usia, lalu terdapat juga pada BMI (0.97) dan tekanan darah(0.76). Karena penyakit yang disebabkan oleh BMI (indeks masa tubuh) yang berlebihan atau obesitas dapat mempengaruhi tekanan darah yang nantinya berpengaruh juga terhadap gula darah.  Namun pada kenyataannya pola hidup juga ikut berpengaruh pada BMI, dan tekanan darah seperti pola makan, olahraga, dan merokok."
   ]
  },
  {
   "cell_type": "markdown",
   "metadata": {},
   "source": [
    "##### Vi. Pengambilan Kesimpulan\n",
    "\n",
    "1. Dari analis yang dihasilkan seorang yang memiliki riwayat diabetes memiliki hubungan yang signifikan dengan hasil diagnosis.\n",
    "\n",
    "2. Data menunjukan kaum pria menduduki jumlah terbanyak dalam terjangkit diabetes bedarskan klasifikasi tingkat gula darahnya. Namun tidak menunjukan hasil yang signifikan hingga perlu level pengawasan yang sama terhadap laki - laki dan perempuan.\n",
    "\n",
    "3. Faktor usia memiliki kolerasi yang tinggi terhadap tingkat gula darah sehingga pihak rumah sakit memberikan perhatian yang lebih dengan melakukan pengecekan gula darah yang rutin kepada pasien paruh baya maupun lansia. Terlebih yang sudah terdiagnosis agar tidak terkena diabetes tingkat lanjut maupun komplkasi.\n",
    "\n",
    "4. Merokok mungkin tidak memiliki hubungan yang signifikan terhadap gula darah namun, merokok dapat berpengaruh terhadap tekanan darah dimana memiliki kolerasi terhadap gula darah.\n",
    "\n",
    "5.Pola makan dan olahraga memiliki hubungan yang signifikan dengan hasil diagnosis pasien. Mungkin dari faktor pola makan yang buruk seperti banyak mengkonsumsi makanan yang mengandung kadar gula tinggi, serta jarang berolahraga yang menyebabkan penimbunan lemak dan gula pada tubuh.\n",
    "\n",
    "6. Fasting Blood (FBS) pressure dan HbA1c memiliki keakuratan yang sama dalam mendiagnosis diabetes, yang membedakan hanya jangka waktu FBS adalah pengecekan sel gula darah secara singkat atau sample sedangkan HbA1c adalah gula darah yang mengendap sehingga efeknya bertahan lama sehingga lebih aman untuk dijadikan alat diagnosis. Penelitian ini dilakukan agar keakurasian saat dibandingkan dengan faktor penyebab diabetes lebih tepat.\n",
    "\n",
    "\n",
    "- **Insight :** Faktor genetik dan pola hidup dapat dijadikan acuan awal untuk mendeteksi penyakit diabetes dari faktor keakuratan baik secara diagnosis maupun sel gula darah\n",
    "\n",
    "- **Practical recommendations based on the analysis :**\n",
    "\n",
    "- Melakukan tes gula darah rutin terhadap pasien dengan riwayat keluarga\n",
    "- Perlakuan setara terhadap pasien pria dan wanita \n",
    "- Perhatian lebih terhadap pasien lansia mengingat korelasi antara umur dan gula darah\n",
    "- Melakukan pengecekan seksama terhadap latar belakang pola hidup pasien\n",
    "- Pola hidup pasien dapat dijadikan landasan lainnya apabila secara genetis tidak bisa membuktikan hasil diagnosis yang pasti\n",
    "\n",
    "- **Steps or actions :**\n",
    "\n",
    "- Rumah sakit sebaiknya memprioritaskan pemeriksaan gula darah rutin pada pasien dengan riwayat keluarga diabetes, terutama pada kelompok usia paruh baya dan lansia baik pria maupun wanita.\n",
    "\n",
    "- Melakukan penyuluhan langsung dengan mengadakan pemeriksaan gula darah gratis secara rutin setiap 3 bulan sekali terutama pasien yang sudah masuk tahap prediabetes.\n",
    "\n",
    "- Membuat tim khusus yang berisi ahli dalam penyakit diabetes guna mencegah maupun menangani diabetes tahap lanjut\n",
    "\n",
    "- Memiliki program khusus seperti terapi untuk pengidap diabetes baru maupun kronis yang secara khusus mengawasi pola hidup pasien.\n",
    "\n",
    "- Kampanye mengenai pola makan sehat dan olahraga rutin harus lebih digencarkan untuk mencegah penimbunan gula darah. Selain itu, mendorong penghentian kebiasaan merokok dapat membantu menurunkan risiko komplikasi.\n",
    "\n",
    "\n",
    "- **Assumptions :**\n",
    " Resiko pasien terkena diabetes tahap awal  akan berkurang sebanyak 95 %, apabila dilakukan pembuatan tim khusus peneliti diabetes, penyuluhan hidup sehat, fasilitas terapi  dan pengecekan gula darah secara cuma - cuma terhadap seluruh pasien secara rutin.\n",
    "\n",
    "- **Constraints :**\n",
    " Namun budget rumah sakit pasti terbatas dalam hal penelitian, penyuluhan, pembuatan fasilitas, pemerataan pengecekan sel gula darah.\n",
    "\n",
    "Measurable Target : Mengurangi 95% resiko pasien terkena diabetes tahap awal dalam jangka waktu 6 bulan."
   ]
  }
 ],
 "metadata": {
  "kernelspec": {
   "display_name": "base",
   "language": "python",
   "name": "python3"
  },
  "language_info": {
   "codemirror_mode": {
    "name": "ipython",
    "version": 3
   },
   "file_extension": ".py",
   "mimetype": "text/x-python",
   "name": "python",
   "nbconvert_exporter": "python",
   "pygments_lexer": "ipython3",
   "version": "3.12.2"
  }
 },
 "nbformat": 4,
 "nbformat_minor": 2
}
